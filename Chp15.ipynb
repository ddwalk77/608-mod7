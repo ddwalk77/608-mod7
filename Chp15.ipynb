{
 "cells": [
  {
   "cell_type": "markdown",
   "id": "58f4c8c4-6152-4251-8e2c-a31dc59f1483",
   "metadata": {},
   "source": [
    "# Chapter 15 - DeeDee Walker"
   ]
  },
  {
   "cell_type": "markdown",
   "id": "cce4c463-1589-491f-8831-c7f99af2bc3c",
   "metadata": {},
   "source": [
    "### 15.2.2 Loading the Dataset"
   ]
  },
  {
   "cell_type": "code",
   "execution_count": 1,
   "id": "775d198f-a8eb-465b-b639-c28b4b09f4e3",
   "metadata": {},
   "outputs": [],
   "source": [
    "from sklearn.datasets import load_digits"
   ]
  },
  {
   "cell_type": "code",
   "execution_count": 2,
   "id": "3f71cd3e-559d-4768-b5ea-b177c57b15d3",
   "metadata": {},
   "outputs": [],
   "source": [
    "digits = load_digits()"
   ]
  },
  {
   "cell_type": "code",
   "execution_count": 3,
   "id": "8baddfdf-ab87-4acf-9804-5dad3cba9174",
   "metadata": {},
   "outputs": [
    {
     "name": "stdout",
     "output_type": "stream",
     "text": [
      ".. _digits_dataset:\n",
      "\n",
      "Optical recognition of handwritten digits dataset\n",
      "--------------------------------------------------\n",
      "\n",
      "**Data Set Characteristics:**\n",
      "\n",
      "    :Number of Instances: 1797\n",
      "    :Number of Attributes: 64\n",
      "    :Attribute Information: 8x8 image of integer pixels in the range 0..16.\n",
      "    :Missing Attribute Values: None\n",
      "    :Creator: E. Alpaydin (alpaydin '@' boun.edu.tr)\n",
      "    :Date: July; 1998\n",
      "\n",
      "This is a copy of the test set of the UCI ML hand-written digits datasets\n",
      "https://archive.ics.uci.edu/ml/datasets/Optical+Recognition+of+Handwritten+Digits\n",
      "\n",
      "The data set contains images of hand-written digits: 10 classes where\n",
      "each class refers to a digit.\n",
      "\n",
      "Preprocessing programs made available by NIST were used to extract\n",
      "normalized bitmaps of handwritten digits from a preprinted form. From a\n",
      "total of 43 people, 30 contributed to the training set and different 13\n",
      "to the test set. 32x32 bitmaps are divided into nonoverlapping blocks of\n",
      "4x4 and the number of on pixels are counted in each block. This generates\n",
      "an input matrix of 8x8 where each element is an integer in the range\n",
      "0..16. This reduces dimensionality and gives invariance to small\n",
      "distortions.\n",
      "\n",
      "For info on NIST preprocessing routines, see M. D. Garris, J. L. Blue, G.\n",
      "T. Candela, D. L. Dimmick, J. Geist, P. J. Grother, S. A. Janet, and C.\n",
      "L. Wilson, NIST Form-Based Handprint Recognition System, NISTIR 5469,\n",
      "1994.\n",
      "\n",
      ".. topic:: References\n",
      "\n",
      "  - C. Kaynak (1995) Methods of Combining Multiple Classifiers and Their\n",
      "    Applications to Handwritten Digit Recognition, MSc Thesis, Institute of\n",
      "    Graduate Studies in Science and Engineering, Bogazici University.\n",
      "  - E. Alpaydin, C. Kaynak (1998) Cascading Classifiers, Kybernetika.\n",
      "  - Ken Tang and Ponnuthurai N. Suganthan and Xi Yao and A. Kai Qin.\n",
      "    Linear dimensionalityreduction using relevance weighted LDA. School of\n",
      "    Electrical and Electronic Engineering Nanyang Technological University.\n",
      "    2005.\n",
      "  - Claudio Gentile. A New Approximate Maximal Margin Classification\n",
      "    Algorithm. NIPS. 2000.\n",
      "\n"
     ]
    }
   ],
   "source": [
    "print(digits.DESCR)"
   ]
  },
  {
   "cell_type": "code",
   "execution_count": 4,
   "id": "2dab78db-193a-4eb5-8dc1-715215a0b7ca",
   "metadata": {},
   "outputs": [
    {
     "data": {
      "text/plain": [
       "array([0, 4, 1, 7, 4, 8, 2, 2, 4, 4, 1, 9, 7, 3, 2, 1, 2, 5])"
      ]
     },
     "execution_count": 4,
     "metadata": {},
     "output_type": "execute_result"
    }
   ],
   "source": [
    "digits.target[::100]"
   ]
  },
  {
   "cell_type": "code",
   "execution_count": 5,
   "id": "a1ce4510-c72f-4387-95c4-893f49aad52c",
   "metadata": {},
   "outputs": [
    {
     "data": {
      "text/plain": [
       "(1797, 64)"
      ]
     },
     "execution_count": 5,
     "metadata": {},
     "output_type": "execute_result"
    }
   ],
   "source": [
    "digits.data.shape"
   ]
  },
  {
   "cell_type": "code",
   "execution_count": 6,
   "id": "4201849a-0b9c-45a8-b984-9287dbadc591",
   "metadata": {},
   "outputs": [
    {
     "data": {
      "text/plain": [
       "(1797,)"
      ]
     },
     "execution_count": 6,
     "metadata": {},
     "output_type": "execute_result"
    }
   ],
   "source": [
    "digits.target.shape"
   ]
  },
  {
   "cell_type": "code",
   "execution_count": 7,
   "id": "71def08e-c265-4f45-9837-09826e365357",
   "metadata": {},
   "outputs": [
    {
     "data": {
      "text/plain": [
       "array([[ 0.,  2.,  9., 15., 14.,  9.,  3.,  0.],\n",
       "       [ 0.,  4., 13.,  8.,  9., 16.,  8.,  0.],\n",
       "       [ 0.,  0.,  0.,  6., 14., 15.,  3.,  0.],\n",
       "       [ 0.,  0.,  0., 11., 14.,  2.,  0.,  0.],\n",
       "       [ 0.,  0.,  0.,  2., 15., 11.,  0.,  0.],\n",
       "       [ 0.,  0.,  0.,  0.,  2., 15.,  4.,  0.],\n",
       "       [ 0.,  1.,  5.,  6., 13., 16.,  6.,  0.],\n",
       "       [ 0.,  2., 12., 12., 13., 11.,  0.,  0.]])"
      ]
     },
     "execution_count": 7,
     "metadata": {},
     "output_type": "execute_result"
    }
   ],
   "source": [
    "digits.images[13]"
   ]
  },
  {
   "cell_type": "code",
   "execution_count": 8,
   "id": "fefb4167-2d8a-4127-a93a-93f5e6287dc2",
   "metadata": {},
   "outputs": [
    {
     "data": {
      "text/plain": [
       "array([ 0.,  2.,  9., 15., 14.,  9.,  3.,  0.,  0.,  4., 13.,  8.,  9.,\n",
       "       16.,  8.,  0.,  0.,  0.,  0.,  6., 14., 15.,  3.,  0.,  0.,  0.,\n",
       "        0., 11., 14.,  2.,  0.,  0.,  0.,  0.,  0.,  2., 15., 11.,  0.,\n",
       "        0.,  0.,  0.,  0.,  0.,  2., 15.,  4.,  0.,  0.,  1.,  5.,  6.,\n",
       "       13., 16.,  6.,  0.,  0.,  2., 12., 12., 13., 11.,  0.,  0.])"
      ]
     },
     "execution_count": 8,
     "metadata": {},
     "output_type": "execute_result"
    }
   ],
   "source": [
    "digits.data[13]"
   ]
  },
  {
   "cell_type": "code",
   "execution_count": 9,
   "id": "ea6184ce-1904-4f30-9bf7-0a0706933ed0",
   "metadata": {},
   "outputs": [
    {
     "data": {
      "text/plain": [
       "array([[ 0.,  0.,  8., 16.,  5.,  0.,  0.,  0.],\n",
       "       [ 0.,  1., 13., 11., 16.,  0.,  0.,  0.],\n",
       "       [ 0.,  0., 10.,  0., 13.,  3.,  0.,  0.],\n",
       "       [ 0.,  0.,  3.,  1., 16.,  1.,  0.,  0.],\n",
       "       [ 0.,  0.,  0.,  9., 12.,  0.,  0.,  0.],\n",
       "       [ 0.,  0.,  3., 15.,  5.,  0.,  0.,  0.],\n",
       "       [ 0.,  0., 14., 15.,  8.,  8.,  3.,  0.],\n",
       "       [ 0.,  0.,  7., 12., 12., 12., 13.,  1.]])"
      ]
     },
     "execution_count": 9,
     "metadata": {},
     "output_type": "execute_result"
    }
   ],
   "source": [
    "digits.images[22]"
   ]
  },
  {
   "cell_type": "code",
   "execution_count": 10,
   "id": "7d135c03-ba04-42de-a57b-fb13f0ba3999",
   "metadata": {},
   "outputs": [
    {
     "data": {
      "text/plain": [
       "2"
      ]
     },
     "execution_count": 10,
     "metadata": {},
     "output_type": "execute_result"
    }
   ],
   "source": [
    "digits.target[22]"
   ]
  },
  {
   "cell_type": "markdown",
   "id": "dc42f412-bdbb-4a33-a9ef-ed21cc0e16d4",
   "metadata": {},
   "source": [
    "### 15.2.3 Visualizing the Data"
   ]
  },
  {
   "cell_type": "code",
   "execution_count": 11,
   "id": "8d4f31af-6684-4928-b636-88ee6033cb7c",
   "metadata": {},
   "outputs": [],
   "source": [
    "import matplotlib.pyplot as plt"
   ]
  },
  {
   "cell_type": "code",
   "execution_count": 12,
   "id": "37dbbcbb-7c98-49a6-a57a-49ab0418593c",
   "metadata": {},
   "outputs": [
    {
     "data": {
      "image/png": "[encoded data removed]",
      "text/plain": [
       "<Figure size 600x400 with 24 Axes>"
      ]
     },
     "metadata": {},
     "output_type": "display_data"
    }
   ],
   "source": [
    "figure, axes = plt.subplots(nrows=4, ncols=6, figsize=(6,4))"
   ]
  },
  {
   "cell_type": "code",
   "execution_count": 13,
   "id": "a28e96e3-9e78-4558-b22b-a77b4e5a82cf",
   "metadata": {},
   "outputs": [
    {
     "data": {
      "text/plain": [
       "<Figure size 640x480 with 0 Axes>"
      ]
     },
     "metadata": {},
     "output_type": "display_data"
    }
   ],
   "source": [
    "for item in zip(axes.ravel(), digits.images, digits.target):\n",
    "    axes, image, target = item\n",
    "    axes.imshow(image, cmap=plt.cm.gray_r)\n",
    "    axes.set_xticks([])  # remove x-axis tick marks\n",
    "    axes.set_yticks([])  # remove y-axis tick marks\n",
    "    axes.set_title(target)\n",
    "plt.tight_layout()  "
   ]
  },
  {
   "cell_type": "code",
   "execution_count": 14,
   "id": "5a2c36f1-a3fc-4164-9198-690b84a0e9f4",
   "metadata": {},
   "outputs": [
    {
     "data": {
      "image/png": "[encoded data removed]",
      "text/plain": [
       "<Figure size 640x480 with 1 Axes>"
      ]
     },
     "metadata": {},
     "output_type": "display_data"
    }
   ],
   "source": [
    "axes = plt.subplot()"
   ]
  },
  {
   "cell_type": "code",
   "execution_count": 15,
   "id": "a7c6238c-396c-4c77-93ee-26c6eebc8baa",
   "metadata": {},
   "outputs": [
    {
     "data": {
      "image/png": "[encoded data removed]",
      "text/plain": [
       "<Figure size 640x480 with 1 Axes>"
      ]
     },
     "metadata": {},
     "output_type": "display_data"
    }
   ],
   "source": [
    "image = plt.imshow(digits.images[22], cmap=plt.cm.gray_r)"
   ]
  },
  {
   "cell_type": "code",
   "execution_count": 16,
   "id": "587ba6d4-b428-4132-b5ea-28ca124109ed",
   "metadata": {},
   "outputs": [],
   "source": [
    "xticks = axes.set_xticks([])"
   ]
  },
  {
   "cell_type": "code",
   "execution_count": 17,
   "id": "c87eb606-4df5-4532-ac8e-344909553542",
   "metadata": {},
   "outputs": [],
   "source": [
    "yticks = axes.set_yticks([])"
   ]
  },
  {
   "cell_type": "markdown",
   "id": "62cd2990-961b-4a04-844f-ff8b547dd243",
   "metadata": {},
   "source": [
    "### 15.2.4 Splitting the Data for Training & Testing"
   ]
  },
  {
   "cell_type": "code",
   "execution_count": 18,
   "id": "c2b41783-f110-480e-ba7a-cd45910a1824",
   "metadata": {},
   "outputs": [],
   "source": [
    "from sklearn.model_selection import train_test_split"
   ]
  },
  {
   "cell_type": "code",
   "execution_count": 19,
   "id": "adf649b0-1a6a-426e-8579-6d4be25de646",
   "metadata": {},
   "outputs": [],
   "source": [
    "X_train, X_test, y_train, y_test = train_test_split(\n",
    "     digits.data, digits.target, random_state=11)"
   ]
  },
  {
   "cell_type": "code",
   "execution_count": 20,
   "id": "0cb55a1a-15f5-4b69-ab32-9c0f840bbe6f",
   "metadata": {},
   "outputs": [
    {
     "data": {
      "text/plain": [
       "(1347, 64)"
      ]
     },
     "execution_count": 20,
     "metadata": {},
     "output_type": "execute_result"
    }
   ],
   "source": [
    "X_train.shape"
   ]
  },
  {
   "cell_type": "code",
   "execution_count": 21,
   "id": "d90c10a8-256a-421e-8e80-04a45abbd506",
   "metadata": {},
   "outputs": [
    {
     "data": {
      "text/plain": [
       "(450, 64)"
      ]
     },
     "execution_count": 21,
     "metadata": {},
     "output_type": "execute_result"
    }
   ],
   "source": [
    "X_test.shape"
   ]
  },
  {
   "cell_type": "markdown",
   "id": "47894ec0-2f88-420b-b3cc-0d620c6e0884",
   "metadata": {},
   "source": [
    "### 15.2.5 Creating the Model"
   ]
  },
  {
   "cell_type": "code",
   "execution_count": 22,
   "id": "80ddcd86-d753-4688-aca9-1ee71372f6dd",
   "metadata": {},
   "outputs": [],
   "source": [
    "from sklearn.neighbors import KNeighborsClassifier"
   ]
  },
  {
   "cell_type": "code",
   "execution_count": 23,
   "id": "5f8d9560-6b66-400b-bed8-b466af70343c",
   "metadata": {},
   "outputs": [],
   "source": [
    "knn = KNeighborsClassifier()"
   ]
  },
  {
   "cell_type": "markdown",
   "id": "aee46c6a-cca3-4ff0-9449-aa5467de80fa",
   "metadata": {},
   "source": [
    "### 15.2.6 Training the Model"
   ]
  },
  {
   "cell_type": "code",
   "execution_count": 24,
   "id": "c9a39a0c-a8f3-48a6-85a5-97fac85cacc8",
   "metadata": {},
   "outputs": [
    {
     "data": {
      "text/html": [
       "<style>#sk-container-id-1 {color: black;background-color: white;}#sk-container-id-1 pre{padding: 0;}#sk-container-id-1 div.sk-toggleable {background-color: white;}#sk-container-id-1 label.sk-toggleable__label {cursor: pointer;display: block;width: 100%;margin-bottom: 0;padding: 0.3em;box-sizing: border-box;text-align: center;}#sk-container-id-1 label.sk-toggleable__label-arrow:before {content: \"▸\";float: left;margin-right: 0.25em;color: #696969;}#sk-container-id-1 label.sk-toggleable__label-arrow:hover:before {color: black;}#sk-container-id-1 div.sk-estimator:hover label.sk-toggleable__label-arrow:before {color: black;}#sk-container-id-1 div.sk-toggleable__content {max-height: 0;max-width: 0;overflow: hidden;text-align: left;background-color: #f0f8ff;}#sk-container-id-1 div.sk-toggleable__content pre {margin: 0.2em;color: black;border-radius: 0.25em;background-color: #f0f8ff;}#sk-container-id-1 input.sk-toggleable__control:checked~div.sk-toggleable__content {max-height: 200px;max-width: 100%;overflow: auto;}#sk-container-id-1 input.sk-toggleable__control:checked~label.sk-toggleable__label-arrow:before {content: \"▾\";}#sk-container-id-1 div.sk-estimator input.sk-toggleable__control:checked~label.sk-toggleable__label {background-color: #d4ebff;}#sk-container-id-1 div.sk-label input.sk-toggleable__control:checked~label.sk-toggleable__label {background-color: #d4ebff;}#sk-container-id-1 input.sk-hidden--visually {border: 0;clip: rect(1px 1px 1px 1px);clip: rect(1px, 1px, 1px, 1px);height: 1px;margin: -1px;overflow: hidden;padding: 0;position: absolute;width: 1px;}#sk-container-id-1 div.sk-estimator {font-family: monospace;background-color: #f0f8ff;border: 1px dotted black;border-radius: 0.25em;box-sizing: border-box;margin-bottom: 0.5em;}#sk-container-id-1 div.sk-estimator:hover {background-color: #d4ebff;}#sk-container-id-1 div.sk-parallel-item::after {content: \"\";width: 100%;border-bottom: 1px solid gray;flex-grow: 1;}#sk-container-id-1 div.sk-label:hover label.sk-toggleable__label {background-color: #d4ebff;}#sk-container-id-1 div.sk-serial::before {content: \"\";position: absolute;border-left: 1px solid gray;box-sizing: border-box;top: 0;bottom: 0;left: 50%;z-index: 0;}#sk-container-id-1 div.sk-serial {display: flex;flex-direction: column;align-items: center;background-color: white;padding-right: 0.2em;padding-left: 0.2em;position: relative;}#sk-container-id-1 div.sk-item {position: relative;z-index: 1;}#sk-container-id-1 div.sk-parallel {display: flex;align-items: stretch;justify-content: center;background-color: white;position: relative;}#sk-container-id-1 div.sk-item::before, #sk-container-id-1 div.sk-parallel-item::before {content: \"\";position: absolute;border-left: 1px solid gray;box-sizing: border-box;top: 0;bottom: 0;left: 50%;z-index: -1;}#sk-container-id-1 div.sk-parallel-item {display: flex;flex-direction: column;z-index: 1;position: relative;background-color: white;}#sk-container-id-1 div.sk-parallel-item:first-child::after {align-self: flex-end;width: 50%;}#sk-container-id-1 div.sk-parallel-item:last-child::after {align-self: flex-start;width: 50%;}#sk-container-id-1 div.sk-parallel-item:only-child::after {width: 0;}#sk-container-id-1 div.sk-dashed-wrapped {border: 1px dashed gray;margin: 0 0.4em 0.5em 0.4em;box-sizing: border-box;padding-bottom: 0.4em;background-color: white;}#sk-container-id-1 div.sk-label label {font-family: monospace;font-weight: bold;display: inline-block;line-height: 1.2em;}#sk-container-id-1 div.sk-label-container {text-align: center;}#sk-container-id-1 div.sk-container {/* jupyter's `normalize.less` sets `[hidden] { display: none; }` but bootstrap.min.css set `[hidden] { display: none !important; }` so we also need the `!important` here to be able to override the default hidden behavior on the sphinx rendered scikit-learn.org. See: https://github.com/scikit-learn/scikit-learn/issues/21755 */display: inline-block !important;position: relative;}#sk-container-id-1 div.sk-text-repr-fallback {display: none;}</style><div id=\"sk-container-id-1\" class=\"sk-top-container\"><div class=\"sk-text-repr-fallback\"><pre>KNeighborsClassifier()</pre><b>In a Jupyter environment, please rerun this cell to show the HTML representation or trust the notebook. <br />On GitHub, the HTML representation is unable to render, please try loading this page with nbviewer.org.</b></div><div class=\"sk-container\" hidden><div class=\"sk-item\"><div class=\"sk-estimator sk-toggleable\"><input class=\"sk-toggleable__control sk-hidden--visually\" id=\"sk-estimator-id-1\" type=\"checkbox\" checked><label for=\"sk-estimator-id-1\" class=\"sk-toggleable__label sk-toggleable__label-arrow\">KNeighborsClassifier</label><div class=\"sk-toggleable__content\"><pre>KNeighborsClassifier()</pre></div></div></div></div></div>"
      ],
      "text/plain": [
       "KNeighborsClassifier()"
      ]
     },
     "execution_count": 24,
     "metadata": {},
     "output_type": "execute_result"
    }
   ],
   "source": [
    "knn.fit(X=X_train, y=y_train)"
   ]
  },
  {
   "cell_type": "markdown",
   "id": "d4a8ef5a-03f5-429c-beda-3bb7a9c3fc45",
   "metadata": {},
   "source": [
    "### 15.2.7 Predicting Digit Classes"
   ]
  },
  {
   "cell_type": "code",
   "execution_count": 25,
   "id": "2e5f9b1d-3ea5-42b4-8763-e1294082a44c",
   "metadata": {},
   "outputs": [],
   "source": [
    "predicted = knn.predict(X=X_test)"
   ]
  },
  {
   "cell_type": "code",
   "execution_count": 26,
   "id": "1389abd3-368e-48dd-a0b6-c13edfab546b",
   "metadata": {},
   "outputs": [],
   "source": [
    "expected = y_test"
   ]
  },
  {
   "cell_type": "code",
   "execution_count": 27,
   "id": "dc1d3b12-7581-4e93-8e62-4b42bcbc6dfb",
   "metadata": {},
   "outputs": [
    {
     "data": {
      "text/plain": [
       "array([0, 4, 9, 9, 3, 1, 4, 1, 5, 0, 4, 9, 4, 1, 5, 3, 3, 8, 5, 6])"
      ]
     },
     "execution_count": 27,
     "metadata": {},
     "output_type": "execute_result"
    }
   ],
   "source": [
    "predicted[:20]"
   ]
  },
  {
   "cell_type": "code",
   "execution_count": 28,
   "id": "49fdc325-ad49-450b-a5a4-354e8ba9e04a",
   "metadata": {},
   "outputs": [
    {
     "data": {
      "text/plain": [
       "array([0, 4, 9, 9, 3, 1, 4, 1, 5, 0, 4, 9, 4, 1, 5, 3, 3, 8, 3, 6])"
      ]
     },
     "execution_count": 28,
     "metadata": {},
     "output_type": "execute_result"
    }
   ],
   "source": [
    "expected[:20]"
   ]
  },
  {
   "cell_type": "code",
   "execution_count": 29,
   "id": "c26340df-6f08-4b0a-943d-bffea808fdd7",
   "metadata": {},
   "outputs": [],
   "source": [
    "wrong = [(p, e) for (p, e) in zip(predicted, expected) if p != e]"
   ]
  },
  {
   "cell_type": "code",
   "execution_count": 30,
   "id": "5b8868d0-2678-4a32-aba0-5c463cbf00a3",
   "metadata": {},
   "outputs": [
    {
     "data": {
      "text/plain": [
       "[(5, 3),\n",
       " (8, 9),\n",
       " (4, 9),\n",
       " (7, 3),\n",
       " (7, 4),\n",
       " (2, 8),\n",
       " (9, 8),\n",
       " (3, 8),\n",
       " (3, 8),\n",
       " (1, 8)]"
      ]
     },
     "execution_count": 30,
     "metadata": {},
     "output_type": "execute_result"
    }
   ],
   "source": [
    "wrong"
   ]
  },
  {
   "cell_type": "code",
   "execution_count": 31,
   "id": "d3c86238-0962-48ad-91bb-b176431a88bc",
   "metadata": {},
   "outputs": [
    {
     "name": "stdout",
     "output_type": "stream",
     "text": [
      "97.78%\n"
     ]
    }
   ],
   "source": [
    "print(f'{(len(expected) - len(wrong)) / len(expected):.2%}')"
   ]
  },
  {
   "cell_type": "markdown",
   "id": "8dab8122-3e08-4304-a58e-ebdca9639ac6",
   "metadata": {},
   "source": [
    "Rewrite the list comprehension using a for loop"
   ]
  },
  {
   "cell_type": "code",
   "execution_count": 32,
   "id": "07f49bab-9f7b-40f9-89ab-81cb2c5a39dc",
   "metadata": {},
   "outputs": [],
   "source": [
    "wrong = []"
   ]
  },
  {
   "cell_type": "code",
   "execution_count": 33,
   "id": "55f3b066-437a-423f-aece-00dc06ce5787",
   "metadata": {},
   "outputs": [],
   "source": [
    "for p, e in zip(predicted, expected):\n",
    "      if p != e:\n",
    "          wrong.append((p, e))"
   ]
  },
  {
   "cell_type": "code",
   "execution_count": 34,
   "id": "b899cec6-7ded-424a-b347-869753c4873f",
   "metadata": {},
   "outputs": [
    {
     "data": {
      "text/plain": [
       "[(5, 3),\n",
       " (8, 9),\n",
       " (4, 9),\n",
       " (7, 3),\n",
       " (7, 4),\n",
       " (2, 8),\n",
       " (9, 8),\n",
       " (3, 8),\n",
       " (3, 8),\n",
       " (1, 8)]"
      ]
     },
     "execution_count": 34,
     "metadata": {},
     "output_type": "execute_result"
    }
   ],
   "source": [
    "wrong"
   ]
  },
  {
   "cell_type": "markdown",
   "id": "ecf4196c-cd52-4c46-b4dc-a1cee94e3c4d",
   "metadata": {},
   "source": [
    "### 15.3.1 Metrics for Model Accuracy"
   ]
  },
  {
   "cell_type": "code",
   "execution_count": 35,
   "id": "e04d8365-d8f6-43c7-bde9-4d60afad8804",
   "metadata": {},
   "outputs": [
    {
     "name": "stdout",
     "output_type": "stream",
     "text": [
      "97.78%\n"
     ]
    }
   ],
   "source": [
    "print(f'{knn.score(X_test, y_test):.2%}')"
   ]
  },
  {
   "cell_type": "code",
   "execution_count": 36,
   "id": "257d1919-0cbf-4082-8941-5eb003891727",
   "metadata": {},
   "outputs": [],
   "source": [
    "from sklearn.metrics import confusion_matrix"
   ]
  },
  {
   "cell_type": "code",
   "execution_count": 37,
   "id": "4b2c0951-eaab-4d4d-8564-8037f14b3ff1",
   "metadata": {},
   "outputs": [],
   "source": [
    "confusion = confusion_matrix(y_true=expected, y_pred=predicted)"
   ]
  },
  {
   "cell_type": "code",
   "execution_count": 38,
   "id": "db27ccbf-54a4-4fb4-bfff-93603f9ecb79",
   "metadata": {},
   "outputs": [
    {
     "data": {
      "text/plain": [
       "array([[45,  0,  0,  0,  0,  0,  0,  0,  0,  0],\n",
       "       [ 0, 45,  0,  0,  0,  0,  0,  0,  0,  0],\n",
       "       [ 0,  0, 54,  0,  0,  0,  0,  0,  0,  0],\n",
       "       [ 0,  0,  0, 42,  0,  1,  0,  1,  0,  0],\n",
       "       [ 0,  0,  0,  0, 49,  0,  0,  1,  0,  0],\n",
       "       [ 0,  0,  0,  0,  0, 38,  0,  0,  0,  0],\n",
       "       [ 0,  0,  0,  0,  0,  0, 42,  0,  0,  0],\n",
       "       [ 0,  0,  0,  0,  0,  0,  0, 45,  0,  0],\n",
       "       [ 0,  1,  1,  2,  0,  0,  0,  0, 39,  1],\n",
       "       [ 0,  0,  0,  0,  1,  0,  0,  0,  1, 41]], dtype=int64)"
      ]
     },
     "execution_count": 38,
     "metadata": {},
     "output_type": "execute_result"
    }
   ],
   "source": [
    "confusion"
   ]
  },
  {
   "cell_type": "code",
   "execution_count": 39,
   "id": "7d402ddb-1c33-4d6d-a9fe-1c1c1dd37da7",
   "metadata": {},
   "outputs": [],
   "source": [
    "from sklearn.metrics import classification_report"
   ]
  },
  {
   "cell_type": "code",
   "execution_count": 40,
   "id": "d4dc1e9b-477c-4106-8308-5798a16f7adf",
   "metadata": {},
   "outputs": [],
   "source": [
    "names = [str(digit) for digit in digits.target_names]"
   ]
  },
  {
   "cell_type": "code",
   "execution_count": 41,
   "id": "7a763525-712d-4a62-a6b1-8a7460977029",
   "metadata": {},
   "outputs": [
    {
     "name": "stdout",
     "output_type": "stream",
     "text": [
      "              precision    recall  f1-score   support\n",
      "\n",
      "           0       1.00      1.00      1.00        45\n",
      "           1       0.98      1.00      0.99        45\n",
      "           2       0.98      1.00      0.99        54\n",
      "           3       0.95      0.95      0.95        44\n",
      "           4       0.98      0.98      0.98        50\n",
      "           5       0.97      1.00      0.99        38\n",
      "           6       1.00      1.00      1.00        42\n",
      "           7       0.96      1.00      0.98        45\n",
      "           8       0.97      0.89      0.93        44\n",
      "           9       0.98      0.95      0.96        43\n",
      "\n",
      "    accuracy                           0.98       450\n",
      "   macro avg       0.98      0.98      0.98       450\n",
      "weighted avg       0.98      0.98      0.98       450\n",
      "\n"
     ]
    }
   ],
   "source": [
    "print(classification_report(expected, predicted, \n",
    "       target_names=names))"
   ]
  },
  {
   "cell_type": "code",
   "execution_count": 42,
   "id": "75fc9f7c-06a9-4aac-aac9-49dd02c0c6e8",
   "metadata": {},
   "outputs": [],
   "source": [
    "import pandas as pd"
   ]
  },
  {
   "cell_type": "code",
   "execution_count": 43,
   "id": "ef66d5b1-107e-44b5-92ea-f5a2c345fdfd",
   "metadata": {},
   "outputs": [],
   "source": [
    "confusion_df = pd.DataFrame(confusion, index=range(10),\n",
    "     columns=range(10))"
   ]
  },
  {
   "cell_type": "code",
   "execution_count": 44,
   "id": "1f97db10-82c3-4310-95dc-7996d7c5b621",
   "metadata": {},
   "outputs": [],
   "source": [
    "import seaborn as sns"
   ]
  },
  {
   "cell_type": "code",
   "execution_count": 45,
   "id": "1322e84b-9998-41e0-91ad-4fda2e47943e",
   "metadata": {},
   "outputs": [
    {
     "data": {
      "image/png": "[encoded data removed]",
      "text/plain": [
       "<Figure size 640x480 with 2 Axes>"
      ]
     },
     "metadata": {},
     "output_type": "display_data"
    }
   ],
   "source": [
    "axes = sns.heatmap(confusion_df, annot=True, \n",
    "                    cmap='nipy_spectral_r')"
   ]
  },
  {
   "cell_type": "markdown",
   "id": "9ee09235-15bb-4375-8152-1c5907a77cff",
   "metadata": {},
   "source": [
    "### 15.3.2 K-Fold Cross Validation"
   ]
  },
  {
   "cell_type": "code",
   "execution_count": 46,
   "id": "a0855216-dcc4-4611-99c0-f60d570af60f",
   "metadata": {},
   "outputs": [],
   "source": [
    "from sklearn.model_selection import KFold"
   ]
  },
  {
   "cell_type": "code",
   "execution_count": 47,
   "id": "27e18543-e600-4057-bcb4-a017fc538dfc",
   "metadata": {},
   "outputs": [],
   "source": [
    "kfold = KFold(n_splits=10, random_state=11, shuffle=True)"
   ]
  },
  {
   "cell_type": "code",
   "execution_count": 48,
   "id": "2934b27a-5116-4cdf-a298-443c130e26b8",
   "metadata": {},
   "outputs": [],
   "source": [
    "from sklearn.model_selection import cross_val_score"
   ]
  },
  {
   "cell_type": "code",
   "execution_count": 49,
   "id": "e923d168-a8de-41f9-9bc8-fc5a81667d04",
   "metadata": {},
   "outputs": [],
   "source": [
    "scores = cross_val_score(estimator=knn, X=digits.data, \n",
    "     y=digits.target, cv=kfold)"
   ]
  },
  {
   "cell_type": "code",
   "execution_count": 50,
   "id": "1d003e04-9e87-4daa-92c4-fa6ae59b5263",
   "metadata": {},
   "outputs": [
    {
     "data": {
      "text/plain": [
       "array([0.97777778, 0.99444444, 0.98888889, 0.97777778, 0.98888889,\n",
       "       0.99444444, 0.97777778, 0.98882682, 1.        , 0.98324022])"
      ]
     },
     "execution_count": 50,
     "metadata": {},
     "output_type": "execute_result"
    }
   ],
   "source": [
    "scores"
   ]
  },
  {
   "cell_type": "code",
   "execution_count": 51,
   "id": "90154676-4e21-40d5-ac7d-20c20e1ac76c",
   "metadata": {},
   "outputs": [
    {
     "name": "stdout",
     "output_type": "stream",
     "text": [
      "Mean accuracy: 98.72%\n"
     ]
    }
   ],
   "source": [
    "print(f'Mean accuracy: {scores.mean():.2%}')"
   ]
  },
  {
   "cell_type": "code",
   "execution_count": 52,
   "id": "6fc1502c-b836-476c-9202-ef324758c47e",
   "metadata": {},
   "outputs": [
    {
     "name": "stdout",
     "output_type": "stream",
     "text": [
      "Accuracy standard deviation: 0.75%\n"
     ]
    }
   ],
   "source": [
    "print(f'Accuracy standard deviation: {scores.std():.2%}')"
   ]
  },
  {
   "cell_type": "markdown",
   "id": "87f51f3a-230c-463a-8329-8452e3ffe8e8",
   "metadata": {},
   "source": [
    "### 15.3.3 Running Multiple Models to Find the Best One"
   ]
  },
  {
   "cell_type": "code",
   "execution_count": 53,
   "id": "80a88fce-66f7-4665-bd7b-515683fa9168",
   "metadata": {},
   "outputs": [],
   "source": [
    "from sklearn.svm import SVC"
   ]
  },
  {
   "cell_type": "code",
   "execution_count": 54,
   "id": "b32f2a1c-6cc8-4caa-8476-c5c817a1f396",
   "metadata": {},
   "outputs": [],
   "source": [
    "from sklearn.naive_bayes import GaussianNB"
   ]
  },
  {
   "cell_type": "code",
   "execution_count": 55,
   "id": "bf7653d5-e305-43d2-99ce-e7b8f6a70a60",
   "metadata": {},
   "outputs": [],
   "source": [
    "estimators = {\n",
    "     'KNeighborsClassifier': knn, \n",
    "     'SVC': SVC(gamma='scale'),\n",
    "     'GaussianNB': GaussianNB()}"
   ]
  },
  {
   "cell_type": "code",
   "execution_count": 56,
   "id": "a94ee556-ab67-431c-a5d7-8b0d19e4e7c3",
   "metadata": {},
   "outputs": [
    {
     "name": "stdout",
     "output_type": "stream",
     "text": [
      "KNeighborsClassifier: mean accuracy=98.72%; standard deviation=0.75%\n",
      "                 SVC: mean accuracy=98.72%; standard deviation=0.79%\n",
      "          GaussianNB: mean accuracy=84.48%; standard deviation=3.47%\n"
     ]
    }
   ],
   "source": [
    "for estimator_name, estimator_object in estimators.items():\n",
    "     kfold = KFold(n_splits=10, random_state=11, shuffle=True)\n",
    "     scores = cross_val_score(estimator=estimator_object, \n",
    "         X=digits.data, y=digits.target, cv=kfold)\n",
    "     print(f'{estimator_name:>20}: ' + \n",
    "           f'mean accuracy={scores.mean():.2%}; ' +\n",
    "           f'standard deviation={scores.std():.2%}')"
   ]
  },
  {
   "cell_type": "markdown",
   "id": "1ae956c9-25e3-4641-9230-30d2b04b0e0d",
   "metadata": {},
   "source": [
    "### 15.3.4 Hyperparameter Tuning"
   ]
  },
  {
   "cell_type": "code",
   "execution_count": 57,
   "id": "c3a1df70-e0cc-49f1-b3cf-40c2696db054",
   "metadata": {},
   "outputs": [
    {
     "name": "stdout",
     "output_type": "stream",
     "text": [
      "k=1 ; mean accuracy=98.83%; standard deviation=0.58%\n",
      "k=3 ; mean accuracy=98.83%; standard deviation=0.72%\n",
      "k=5 ; mean accuracy=98.72%; standard deviation=0.75%\n",
      "k=7 ; mean accuracy=98.44%; standard deviation=0.96%\n",
      "k=9 ; mean accuracy=98.39%; standard deviation=0.80%\n",
      "k=11; mean accuracy=98.33%; standard deviation=0.90%\n",
      "k=13; mean accuracy=97.89%; standard deviation=0.89%\n",
      "k=15; mean accuracy=97.89%; standard deviation=1.02%\n",
      "k=17; mean accuracy=97.50%; standard deviation=1.00%\n",
      "k=19; mean accuracy=97.66%; standard deviation=0.96%\n"
     ]
    }
   ],
   "source": [
    "for k in range(1, 20, 2):\n",
    "     kfold = KFold(n_splits=10, random_state=11, shuffle=True)\n",
    "     knn = KNeighborsClassifier(n_neighbors=k)\n",
    "     scores = cross_val_score(estimator=knn, \n",
    "         X=digits.data, y=digits.target, cv=kfold)\n",
    "     print(f'k={k:<2}; mean accuracy={scores.mean():.2%}; ' +\n",
    "           f'standard deviation={scores.std():.2%}')"
   ]
  },
  {
   "cell_type": "markdown",
   "id": "1963fcd0-c75a-4356-8bd1-84f76b83ee05",
   "metadata": {},
   "source": [
    "### 15.4 Time Series & Simple Linear Regression"
   ]
  },
  {
   "cell_type": "code",
   "execution_count": 58,
   "id": "3276a543-795b-4ea7-8497-64c5f126f819",
   "metadata": {},
   "outputs": [],
   "source": [
    "%matplotlib ipympl\n",
    "import matplotlib.pyplot as plt\n",
    "import numpy as np"
   ]
  },
  {
   "cell_type": "code",
   "execution_count": 59,
   "id": "fa7b7953-d52b-410d-88ba-7e6b7dcbb23a",
   "metadata": {},
   "outputs": [],
   "source": [
    "import pandas as pd"
   ]
  },
  {
   "cell_type": "code",
   "execution_count": 60,
   "id": "78b808d1-9f77-4d16-b69b-22cb77f21461",
   "metadata": {},
   "outputs": [],
   "source": [
    "nyc = pd.read_csv('ave_hi_nyc_jan_1895-2018.csv')"
   ]
  },
  {
   "cell_type": "code",
   "execution_count": 61,
   "id": "e6c50b88-65d1-41e2-b1bd-e524002558bc",
   "metadata": {},
   "outputs": [],
   "source": [
    "nyc.columns = ['Date', 'Temperature', 'Anomaly']"
   ]
  },
  {
   "cell_type": "code",
   "execution_count": 62,
   "id": "832e4c89-7062-4a42-b77f-dc9b2c207cb5",
   "metadata": {},
   "outputs": [],
   "source": [
    "nyc.Date = nyc.Date.floordiv(100)"
   ]
  },
  {
   "cell_type": "code",
   "execution_count": 63,
   "id": "05ef3f3e-96c2-43fc-8806-dc0fe5352965",
   "metadata": {},
   "outputs": [
    {
     "data": {
      "text/html": [
       "<div>\n",
       "<style scoped>\n",
       "    .dataframe tbody tr th:only-of-type {\n",
       "        vertical-align: middle;\n",
       "    }\n",
       "\n",
       "    .dataframe tbody tr th {\n",
       "        vertical-align: top;\n",
       "    }\n",
       "\n",
       "    .dataframe thead th {\n",
       "        text-align: right;\n",
       "    }\n",
       "</style>\n",
       "<table border=\"1\" class=\"dataframe\">\n",
       "  <thead>\n",
       "    <tr style=\"text-align: right;\">\n",
       "      <th></th>\n",
       "      <th>Date</th>\n",
       "      <th>Temperature</th>\n",
       "      <th>Anomaly</th>\n",
       "    </tr>\n",
       "  </thead>\n",
       "  <tbody>\n",
       "    <tr>\n",
       "      <th>0</th>\n",
       "      <td>1895</td>\n",
       "      <td>34.2</td>\n",
       "      <td>-3.2</td>\n",
       "    </tr>\n",
       "    <tr>\n",
       "      <th>1</th>\n",
       "      <td>1896</td>\n",
       "      <td>34.7</td>\n",
       "      <td>-2.7</td>\n",
       "    </tr>\n",
       "    <tr>\n",
       "      <th>2</th>\n",
       "      <td>1897</td>\n",
       "      <td>35.5</td>\n",
       "      <td>-1.9</td>\n",
       "    </tr>\n",
       "  </tbody>\n",
       "</table>\n",
       "</div>"
      ],
      "text/plain": [
       "   Date  Temperature  Anomaly\n",
       "0  1895         34.2     -3.2\n",
       "1  1896         34.7     -2.7\n",
       "2  1897         35.5     -1.9"
      ]
     },
     "execution_count": 63,
     "metadata": {},
     "output_type": "execute_result"
    }
   ],
   "source": [
    "nyc.head(3)"
   ]
  },
  {
   "cell_type": "code",
   "execution_count": 64,
   "id": "13cc7b41-8794-4f7f-81a4-178b4f92896f",
   "metadata": {},
   "outputs": [],
   "source": [
    "from sklearn.model_selection import train_test_split"
   ]
  },
  {
   "cell_type": "code",
   "execution_count": 65,
   "id": "0352b7e0-84ef-4ff6-af12-f1027478ee02",
   "metadata": {},
   "outputs": [],
   "source": [
    "X_train, X_test, y_train, y_test = train_test_split(\n",
    "     nyc.Date.values.reshape(-1, 1), nyc.Temperature.values, \n",
    "     random_state=11)"
   ]
  },
  {
   "cell_type": "code",
   "execution_count": 66,
   "id": "eb71baa5-1132-4156-b698-d92cbdb9923b",
   "metadata": {},
   "outputs": [
    {
     "data": {
      "text/plain": [
       "(93, 1)"
      ]
     },
     "execution_count": 66,
     "metadata": {},
     "output_type": "execute_result"
    }
   ],
   "source": [
    "X_train.shape"
   ]
  },
  {
   "cell_type": "code",
   "execution_count": 67,
   "id": "78c1a3ed-3797-4329-af42-91b57cb21590",
   "metadata": {},
   "outputs": [
    {
     "data": {
      "text/plain": [
       "(31, 1)"
      ]
     },
     "execution_count": 67,
     "metadata": {},
     "output_type": "execute_result"
    }
   ],
   "source": [
    "X_test.shape"
   ]
  },
  {
   "cell_type": "code",
   "execution_count": 68,
   "id": "05717eec-46a5-4e18-8703-40e58cd9654c",
   "metadata": {},
   "outputs": [],
   "source": [
    "from sklearn.linear_model import LinearRegression"
   ]
  },
  {
   "cell_type": "code",
   "execution_count": 69,
   "id": "da0d6787-9936-48ad-8efa-f791e447e16b",
   "metadata": {},
   "outputs": [],
   "source": [
    "linear_regression = LinearRegression()"
   ]
  },
  {
   "cell_type": "code",
   "execution_count": 70,
   "id": "8e0878d7-c0e2-4bf8-99be-54baf43bb7fc",
   "metadata": {},
   "outputs": [
    {
     "data": {
      "text/html": [
       "<style>#sk-container-id-2 {color: black;background-color: white;}#sk-container-id-2 pre{padding: 0;}#sk-container-id-2 div.sk-toggleable {background-color: white;}#sk-container-id-2 label.sk-toggleable__label {cursor: pointer;display: block;width: 100%;margin-bottom: 0;padding: 0.3em;box-sizing: border-box;text-align: center;}#sk-container-id-2 label.sk-toggleable__label-arrow:before {content: \"▸\";float: left;margin-right: 0.25em;color: #696969;}#sk-container-id-2 label.sk-toggleable__label-arrow:hover:before {color: black;}#sk-container-id-2 div.sk-estimator:hover label.sk-toggleable__label-arrow:before {color: black;}#sk-container-id-2 div.sk-toggleable__content {max-height: 0;max-width: 0;overflow: hidden;text-align: left;background-color: #f0f8ff;}#sk-container-id-2 div.sk-toggleable__content pre {margin: 0.2em;color: black;border-radius: 0.25em;background-color: #f0f8ff;}#sk-container-id-2 input.sk-toggleable__control:checked~div.sk-toggleable__content {max-height: 200px;max-width: 100%;overflow: auto;}#sk-container-id-2 input.sk-toggleable__control:checked~label.sk-toggleable__label-arrow:before {content: \"▾\";}#sk-container-id-2 div.sk-estimator input.sk-toggleable__control:checked~label.sk-toggleable__label {background-color: #d4ebff;}#sk-container-id-2 div.sk-label input.sk-toggleable__control:checked~label.sk-toggleable__label {background-color: #d4ebff;}#sk-container-id-2 input.sk-hidden--visually {border: 0;clip: rect(1px 1px 1px 1px);clip: rect(1px, 1px, 1px, 1px);height: 1px;margin: -1px;overflow: hidden;padding: 0;position: absolute;width: 1px;}#sk-container-id-2 div.sk-estimator {font-family: monospace;background-color: #f0f8ff;border: 1px dotted black;border-radius: 0.25em;box-sizing: border-box;margin-bottom: 0.5em;}#sk-container-id-2 div.sk-estimator:hover {background-color: #d4ebff;}#sk-container-id-2 div.sk-parallel-item::after {content: \"\";width: 100%;border-bottom: 1px solid gray;flex-grow: 1;}#sk-container-id-2 div.sk-label:hover label.sk-toggleable__label {background-color: #d4ebff;}#sk-container-id-2 div.sk-serial::before {content: \"\";position: absolute;border-left: 1px solid gray;box-sizing: border-box;top: 0;bottom: 0;left: 50%;z-index: 0;}#sk-container-id-2 div.sk-serial {display: flex;flex-direction: column;align-items: center;background-color: white;padding-right: 0.2em;padding-left: 0.2em;position: relative;}#sk-container-id-2 div.sk-item {position: relative;z-index: 1;}#sk-container-id-2 div.sk-parallel {display: flex;align-items: stretch;justify-content: center;background-color: white;position: relative;}#sk-container-id-2 div.sk-item::before, #sk-container-id-2 div.sk-parallel-item::before {content: \"\";position: absolute;border-left: 1px solid gray;box-sizing: border-box;top: 0;bottom: 0;left: 50%;z-index: -1;}#sk-container-id-2 div.sk-parallel-item {display: flex;flex-direction: column;z-index: 1;position: relative;background-color: white;}#sk-container-id-2 div.sk-parallel-item:first-child::after {align-self: flex-end;width: 50%;}#sk-container-id-2 div.sk-parallel-item:last-child::after {align-self: flex-start;width: 50%;}#sk-container-id-2 div.sk-parallel-item:only-child::after {width: 0;}#sk-container-id-2 div.sk-dashed-wrapped {border: 1px dashed gray;margin: 0 0.4em 0.5em 0.4em;box-sizing: border-box;padding-bottom: 0.4em;background-color: white;}#sk-container-id-2 div.sk-label label {font-family: monospace;font-weight: bold;display: inline-block;line-height: 1.2em;}#sk-container-id-2 div.sk-label-container {text-align: center;}#sk-container-id-2 div.sk-container {/* jupyter's `normalize.less` sets `[hidden] { display: none; }` but bootstrap.min.css set `[hidden] { display: none !important; }` so we also need the `!important` here to be able to override the default hidden behavior on the sphinx rendered scikit-learn.org. See: https://github.com/scikit-learn/scikit-learn/issues/21755 */display: inline-block !important;position: relative;}#sk-container-id-2 div.sk-text-repr-fallback {display: none;}</style><div id=\"sk-container-id-2\" class=\"sk-top-container\"><div class=\"sk-text-repr-fallback\"><pre>LinearRegression()</pre><b>In a Jupyter environment, please rerun this cell to show the HTML representation or trust the notebook. <br />On GitHub, the HTML representation is unable to render, please try loading this page with nbviewer.org.</b></div><div class=\"sk-container\" hidden><div class=\"sk-item\"><div class=\"sk-estimator sk-toggleable\"><input class=\"sk-toggleable__control sk-hidden--visually\" id=\"sk-estimator-id-2\" type=\"checkbox\" checked><label for=\"sk-estimator-id-2\" class=\"sk-toggleable__label sk-toggleable__label-arrow\">LinearRegression</label><div class=\"sk-toggleable__content\"><pre>LinearRegression()</pre></div></div></div></div></div>"
      ],
      "text/plain": [
       "LinearRegression()"
      ]
     },
     "execution_count": 70,
     "metadata": {},
     "output_type": "execute_result"
    }
   ],
   "source": [
    "linear_regression.fit(X=X_train, y=y_train)"
   ]
  },
  {
   "cell_type": "code",
   "execution_count": 71,
   "id": "f0465b94-24c4-4253-b0cb-2ec9d29a26c9",
   "metadata": {},
   "outputs": [
    {
     "data": {
      "text/plain": [
       "array([0.01939167])"
      ]
     },
     "execution_count": 71,
     "metadata": {},
     "output_type": "execute_result"
    }
   ],
   "source": [
    "linear_regression.coef_"
   ]
  },
  {
   "cell_type": "code",
   "execution_count": 72,
   "id": "e1ce225d-8b0a-4d37-bcd3-9bfffc803e39",
   "metadata": {},
   "outputs": [
    {
     "data": {
      "text/plain": [
       "-0.30779820252656265"
      ]
     },
     "execution_count": 72,
     "metadata": {},
     "output_type": "execute_result"
    }
   ],
   "source": [
    "linear_regression.intercept_"
   ]
  },
  {
   "cell_type": "code",
   "execution_count": 73,
   "id": "ff3d7f91-4b74-470a-99a9-d41ac88ca2c3",
   "metadata": {},
   "outputs": [],
   "source": [
    "predicted = linear_regression.predict(X_test)"
   ]
  },
  {
   "cell_type": "code",
   "execution_count": 74,
   "id": "cb146a63-9ecd-4662-8d7f-64cf68fd34f4",
   "metadata": {},
   "outputs": [],
   "source": [
    "expected = y_test"
   ]
  },
  {
   "cell_type": "code",
   "execution_count": 75,
   "id": "2828ae8f-972b-4d74-b9b3-6ac4bee39787",
   "metadata": {},
   "outputs": [
    {
     "name": "stdout",
     "output_type": "stream",
     "text": [
      "predicted: 37.86, expected: 31.70\n",
      "predicted: 38.69, expected: 34.80\n",
      "predicted: 37.00, expected: 39.40\n",
      "predicted: 37.25, expected: 45.70\n",
      "predicted: 38.05, expected: 32.30\n",
      "predicted: 37.64, expected: 33.80\n",
      "predicted: 36.94, expected: 39.70\n"
     ]
    }
   ],
   "source": [
    "for p, e in zip(predicted[::5], expected[::5]):\n",
    "     print(f'predicted: {p:.2f}, expected: {e:.2f}')"
   ]
  },
  {
   "cell_type": "code",
   "execution_count": 76,
   "id": "70f83055-9a90-43e2-abf0-0c56f49c61a5",
   "metadata": {},
   "outputs": [],
   "source": [
    "predict = (lambda x: linear_regression.coef_ * x + \n",
    "                      linear_regression.intercept_)"
   ]
  },
  {
   "cell_type": "code",
   "execution_count": 77,
   "id": "a35bd9b9-6b48-402c-8cad-06d9e2de2111",
   "metadata": {},
   "outputs": [
    {
     "data": {
      "text/plain": [
       "array([38.84399018])"
      ]
     },
     "execution_count": 77,
     "metadata": {},
     "output_type": "execute_result"
    }
   ],
   "source": [
    "predict(2019)"
   ]
  },
  {
   "cell_type": "code",
   "execution_count": 78,
   "id": "d15fe045-4656-4d09-81b4-01583ed67c47",
   "metadata": {},
   "outputs": [
    {
     "data": {
      "text/plain": [
       "array([36.34246432])"
      ]
     },
     "execution_count": 78,
     "metadata": {},
     "output_type": "execute_result"
    }
   ],
   "source": [
    "predict(1890)"
   ]
  },
  {
   "cell_type": "code",
   "execution_count": 79,
   "id": "6e004db9-9a68-4488-bdd6-3629ade25a02",
   "metadata": {},
   "outputs": [],
   "source": [
    "import seaborn as sns"
   ]
  },
  {
   "cell_type": "code",
   "execution_count": 80,
   "id": "6e5d69c1-f482-43f7-900d-b308fe754779",
   "metadata": {},
   "outputs": [
    {
     "data": {
      "application/vnd.jupyter.widget-view+json": {
       "model_id": "9718dd0d812047019d69e217722d7d42",
       "version_major": 2,
       "version_minor": 0
      },
      "image/png": "[encoded data removed]",
      "text/html": [
       "\n",
       "            <div style=\"display: inline-block;\">\n",
       "                <div class=\"jupyter-widgets widget-label\" style=\"text-align: center;\">\n",
       "                    Figure\n",
       "                </div>\n",
       "                <img src='data:image/png;base64,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' width=640.0/>\n",
       "            </div>\n",
       "        "
      ],
      "text/plain": [
       "Canvas(toolbar=Toolbar(toolitems=[('Home', 'Reset original view', 'home', 'home'), ('Back', 'Back to previous …"
      ]
     },
     "metadata": {},
     "output_type": "display_data"
    }
   ],
   "source": [
    "axes = sns.scatterplot(data=nyc, x='Date', y='Temperature',\n",
    "     hue='Temperature', palette='winter', legend=False)"
   ]
  },
  {
   "cell_type": "code",
   "execution_count": 81,
   "id": "bbb879a0-526d-4a90-9140-f121f6c0e16f",
   "metadata": {},
   "outputs": [
    {
     "data": {
      "text/plain": [
       "(10.0, 70.0)"
      ]
     },
     "execution_count": 81,
     "metadata": {},
     "output_type": "execute_result"
    }
   ],
   "source": [
    "axes.set_ylim(10, 70)"
   ]
  },
  {
   "cell_type": "code",
   "execution_count": 82,
   "id": "3708263d-76be-497e-9a30-d76a1b8a8218",
   "metadata": {},
   "outputs": [],
   "source": [
    "x = np.array([min(nyc.Date.values), max(nyc.Date.values)])"
   ]
  },
  {
   "cell_type": "code",
   "execution_count": 83,
   "id": "0e98c06c-7a2d-4d1f-a2b0-485ca2d649d1",
   "metadata": {},
   "outputs": [],
   "source": [
    "y = predict(x)"
   ]
  },
  {
   "cell_type": "code",
   "execution_count": 84,
   "id": "d8fe4c6c-06cd-41ee-b702-84264713a5cd",
   "metadata": {},
   "outputs": [],
   "source": [
    "line = plt.plot(x, y)"
   ]
  },
  {
   "cell_type": "code",
   "execution_count": 85,
   "id": "38db2c79-d32f-46e3-b7bd-83cb77b5b17d",
   "metadata": {},
   "outputs": [
    {
     "data": {
      "text/plain": [
       "array([36.32307265])"
      ]
     },
     "execution_count": 85,
     "metadata": {},
     "output_type": "execute_result"
    }
   ],
   "source": [
    "predict(1889)"
   ]
  },
  {
   "cell_type": "code",
   "execution_count": 86,
   "id": "9c85d8a7-7b2d-4ae4-8026-27c46d33958b",
   "metadata": {},
   "outputs": [
    {
     "data": {
      "text/plain": [
       "array([38.86338185])"
      ]
     },
     "execution_count": 86,
     "metadata": {},
     "output_type": "execute_result"
    }
   ],
   "source": [
    "predict(2020)"
   ]
  },
  {
   "cell_type": "code",
   "execution_count": 87,
   "id": "841dbe44-f81e-455d-beba-e2efda6cc6ab",
   "metadata": {},
   "outputs": [
    {
     "data": {
      "text/plain": [
       "array([38.9021652])"
      ]
     },
     "execution_count": 87,
     "metadata": {},
     "output_type": "execute_result"
    }
   ],
   "source": [
    "predict(2022)"
   ]
  },
  {
   "cell_type": "code",
   "execution_count": 88,
   "id": "00704040-92aa-4af8-8335-75356bc73662",
   "metadata": {},
   "outputs": [
    {
     "data": {
      "text/plain": [
       "array([38.92155687])"
      ]
     },
     "execution_count": 88,
     "metadata": {},
     "output_type": "execute_result"
    }
   ],
   "source": [
    "predict(2023)"
   ]
  },
  {
   "cell_type": "code",
   "execution_count": null,
   "id": "00a5bf43-87a5-4703-b218-f5e34d793b5f",
   "metadata": {},
   "outputs": [],
   "source": []
  }
 ],
 "metadata": {
  "kernelspec": {
   "display_name": "Python 3 (ipykernel)",
   "language": "python",
   "name": "python3"
  },
  "language_info": {
   "codemirror_mode": {
    "name": "ipython",
    "version": 3
   },
   "file_extension": ".py",
   "mimetype": "text/x-python",
   "name": "python",
   "nbconvert_exporter": "python",
   "pygments_lexer": "ipython3",
   "version": "3.9.12"
  }
 },
 "nbformat": 4,
 "nbformat_minor": 5
}
