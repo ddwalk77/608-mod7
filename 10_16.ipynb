{
 "cells": [
  {
   "cell_type": "markdown",
   "id": "554b7749-e21c-4030-ad59-cf81155c5cf6",
   "metadata": {},
   "source": [
    "# 10.16 - DeeDee Walker"
   ]
  },
  {
   "cell_type": "code",
   "execution_count": 1,
   "id": "f12d3454-12eb-4812-81bf-eb9ed786f5d4",
   "metadata": {},
   "outputs": [],
   "source": [
    "%matplotlib widget"
   ]
  },
  {
   "cell_type": "code",
   "execution_count": 2,
   "id": "dfbcdc26-41f5-4e7a-bc82-014354a89f7e",
   "metadata": {},
   "outputs": [],
   "source": [
    "c = lambda f: 5 / 9 * (f - 32)"
   ]
  },
  {
   "cell_type": "code",
   "execution_count": 3,
   "id": "a75720eb-1bca-4e94-a81c-625d7810e23c",
   "metadata": {},
   "outputs": [],
   "source": [
    "temps = [(f, c(f)) for f in range(0, 101, 10)]"
   ]
  },
  {
   "cell_type": "code",
   "execution_count": 4,
   "id": "796c9456-0476-422d-bae0-73b3bd3d5af3",
   "metadata": {},
   "outputs": [],
   "source": [
    "import pandas as pd"
   ]
  },
  {
   "cell_type": "code",
   "execution_count": 5,
   "id": "f344da6f-c56d-4550-bee3-4573ab8bd8ea",
   "metadata": {},
   "outputs": [],
   "source": [
    "temps_df = pd.DataFrame(temps, columns=['Fahrenheit', 'Celsius'])"
   ]
  },
  {
   "cell_type": "markdown",
   "id": "c74a7504-374d-463c-8013-282ecb1eae3f",
   "metadata": {},
   "source": [
    "axes = temps_df.plot(x='Fahrenheit', y='Celsius', style='.-')"
   ]
  },
  {
   "cell_type": "markdown",
   "id": "dcbb310b-2701-4d11-aef7-4c19a395f31a",
   "metadata": {},
   "source": [
    "y_label = axes.set_ylabel('Celsius')"
   ]
  },
  {
   "cell_type": "code",
   "execution_count": 6,
   "id": "ae9e4cf7-b9f2-4d23-9b80-e33554da05c3",
   "metadata": {},
   "outputs": [],
   "source": [
    "nyc = pd.read_csv('ave_hi_nyc_jan_1895-2018.csv')"
   ]
  },
  {
   "cell_type": "code",
   "execution_count": 7,
   "id": "8b32eded-1b92-4725-a9cc-b5ac8230193d",
   "metadata": {},
   "outputs": [
    {
     "data": {
      "text/html": [
       "<div>\n",
       "<style scoped>\n",
       "    .dataframe tbody tr th:only-of-type {\n",
       "        vertical-align: middle;\n",
       "    }\n",
       "\n",
       "    .dataframe tbody tr th {\n",
       "        vertical-align: top;\n",
       "    }\n",
       "\n",
       "    .dataframe thead th {\n",
       "        text-align: right;\n",
       "    }\n",
       "</style>\n",
       "<table border=\"1\" class=\"dataframe\">\n",
       "  <thead>\n",
       "    <tr style=\"text-align: right;\">\n",
       "      <th></th>\n",
       "      <th>Date</th>\n",
       "      <th>Value</th>\n",
       "      <th>Anomaly</th>\n",
       "    </tr>\n",
       "  </thead>\n",
       "  <tbody>\n",
       "    <tr>\n",
       "      <th>0</th>\n",
       "      <td>189501</td>\n",
       "      <td>34.2</td>\n",
       "      <td>-3.2</td>\n",
       "    </tr>\n",
       "    <tr>\n",
       "      <th>1</th>\n",
       "      <td>189601</td>\n",
       "      <td>34.7</td>\n",
       "      <td>-2.7</td>\n",
       "    </tr>\n",
       "    <tr>\n",
       "      <th>2</th>\n",
       "      <td>189701</td>\n",
       "      <td>35.5</td>\n",
       "      <td>-1.9</td>\n",
       "    </tr>\n",
       "    <tr>\n",
       "      <th>3</th>\n",
       "      <td>189801</td>\n",
       "      <td>39.6</td>\n",
       "      <td>2.2</td>\n",
       "    </tr>\n",
       "    <tr>\n",
       "      <th>4</th>\n",
       "      <td>189901</td>\n",
       "      <td>36.4</td>\n",
       "      <td>-1.0</td>\n",
       "    </tr>\n",
       "  </tbody>\n",
       "</table>\n",
       "</div>"
      ],
      "text/plain": [
       "     Date  Value  Anomaly\n",
       "0  189501   34.2     -3.2\n",
       "1  189601   34.7     -2.7\n",
       "2  189701   35.5     -1.9\n",
       "3  189801   39.6      2.2\n",
       "4  189901   36.4     -1.0"
      ]
     },
     "execution_count": 7,
     "metadata": {},
     "output_type": "execute_result"
    }
   ],
   "source": [
    "nyc.head()"
   ]
  },
  {
   "cell_type": "code",
   "execution_count": 8,
   "id": "a4644cfc-7811-4b44-8ce6-abd0892f850d",
   "metadata": {},
   "outputs": [
    {
     "data": {
      "text/html": [
       "<div>\n",
       "<style scoped>\n",
       "    .dataframe tbody tr th:only-of-type {\n",
       "        vertical-align: middle;\n",
       "    }\n",
       "\n",
       "    .dataframe tbody tr th {\n",
       "        vertical-align: top;\n",
       "    }\n",
       "\n",
       "    .dataframe thead th {\n",
       "        text-align: right;\n",
       "    }\n",
       "</style>\n",
       "<table border=\"1\" class=\"dataframe\">\n",
       "  <thead>\n",
       "    <tr style=\"text-align: right;\">\n",
       "      <th></th>\n",
       "      <th>Date</th>\n",
       "      <th>Value</th>\n",
       "      <th>Anomaly</th>\n",
       "    </tr>\n",
       "  </thead>\n",
       "  <tbody>\n",
       "    <tr>\n",
       "      <th>119</th>\n",
       "      <td>201401</td>\n",
       "      <td>35.5</td>\n",
       "      <td>-1.9</td>\n",
       "    </tr>\n",
       "    <tr>\n",
       "      <th>120</th>\n",
       "      <td>201501</td>\n",
       "      <td>36.1</td>\n",
       "      <td>-1.3</td>\n",
       "    </tr>\n",
       "    <tr>\n",
       "      <th>121</th>\n",
       "      <td>201601</td>\n",
       "      <td>40.8</td>\n",
       "      <td>3.4</td>\n",
       "    </tr>\n",
       "    <tr>\n",
       "      <th>122</th>\n",
       "      <td>201701</td>\n",
       "      <td>42.8</td>\n",
       "      <td>5.4</td>\n",
       "    </tr>\n",
       "    <tr>\n",
       "      <th>123</th>\n",
       "      <td>201801</td>\n",
       "      <td>38.7</td>\n",
       "      <td>1.3</td>\n",
       "    </tr>\n",
       "  </tbody>\n",
       "</table>\n",
       "</div>"
      ],
      "text/plain": [
       "       Date  Value  Anomaly\n",
       "119  201401   35.5     -1.9\n",
       "120  201501   36.1     -1.3\n",
       "121  201601   40.8      3.4\n",
       "122  201701   42.8      5.4\n",
       "123  201801   38.7      1.3"
      ]
     },
     "execution_count": 8,
     "metadata": {},
     "output_type": "execute_result"
    }
   ],
   "source": [
    "nyc.tail()"
   ]
  },
  {
   "cell_type": "code",
   "execution_count": 9,
   "id": "4ff74408-6239-4e31-962a-8bf252c6da9d",
   "metadata": {},
   "outputs": [],
   "source": [
    "nyc.columns = ['Date', 'Temperature', 'Anomaly']"
   ]
  },
  {
   "cell_type": "code",
   "execution_count": 10,
   "id": "7ccf5105-b8cb-490b-bb3b-a4227b754674",
   "metadata": {},
   "outputs": [
    {
     "data": {
      "text/html": [
       "<div>\n",
       "<style scoped>\n",
       "    .dataframe tbody tr th:only-of-type {\n",
       "        vertical-align: middle;\n",
       "    }\n",
       "\n",
       "    .dataframe tbody tr th {\n",
       "        vertical-align: top;\n",
       "    }\n",
       "\n",
       "    .dataframe thead th {\n",
       "        text-align: right;\n",
       "    }\n",
       "</style>\n",
       "<table border=\"1\" class=\"dataframe\">\n",
       "  <thead>\n",
       "    <tr style=\"text-align: right;\">\n",
       "      <th></th>\n",
       "      <th>Date</th>\n",
       "      <th>Temperature</th>\n",
       "      <th>Anomaly</th>\n",
       "    </tr>\n",
       "  </thead>\n",
       "  <tbody>\n",
       "    <tr>\n",
       "      <th>0</th>\n",
       "      <td>189501</td>\n",
       "      <td>34.2</td>\n",
       "      <td>-3.2</td>\n",
       "    </tr>\n",
       "    <tr>\n",
       "      <th>1</th>\n",
       "      <td>189601</td>\n",
       "      <td>34.7</td>\n",
       "      <td>-2.7</td>\n",
       "    </tr>\n",
       "    <tr>\n",
       "      <th>2</th>\n",
       "      <td>189701</td>\n",
       "      <td>35.5</td>\n",
       "      <td>-1.9</td>\n",
       "    </tr>\n",
       "  </tbody>\n",
       "</table>\n",
       "</div>"
      ],
      "text/plain": [
       "     Date  Temperature  Anomaly\n",
       "0  189501         34.2     -3.2\n",
       "1  189601         34.7     -2.7\n",
       "2  189701         35.5     -1.9"
      ]
     },
     "execution_count": 10,
     "metadata": {},
     "output_type": "execute_result"
    }
   ],
   "source": [
    "nyc.head(3)"
   ]
  },
  {
   "cell_type": "code",
   "execution_count": 11,
   "id": "e7799427-bb35-41b3-bf71-163d1c96b3ed",
   "metadata": {},
   "outputs": [
    {
     "data": {
      "text/plain": [
       "dtype('int64')"
      ]
     },
     "execution_count": 11,
     "metadata": {},
     "output_type": "execute_result"
    }
   ],
   "source": [
    "nyc.Date.dtype"
   ]
  },
  {
   "cell_type": "code",
   "execution_count": 12,
   "id": "17823e79-86ec-4e7f-b926-8900a30924b8",
   "metadata": {},
   "outputs": [],
   "source": [
    "nyc.Date = nyc.Date.floordiv(100)"
   ]
  },
  {
   "cell_type": "code",
   "execution_count": 13,
   "id": "40b745f3-30e4-4a1e-9f5a-f40d52cfa3a5",
   "metadata": {},
   "outputs": [
    {
     "data": {
      "text/html": [
       "<div>\n",
       "<style scoped>\n",
       "    .dataframe tbody tr th:only-of-type {\n",
       "        vertical-align: middle;\n",
       "    }\n",
       "\n",
       "    .dataframe tbody tr th {\n",
       "        vertical-align: top;\n",
       "    }\n",
       "\n",
       "    .dataframe thead th {\n",
       "        text-align: right;\n",
       "    }\n",
       "</style>\n",
       "<table border=\"1\" class=\"dataframe\">\n",
       "  <thead>\n",
       "    <tr style=\"text-align: right;\">\n",
       "      <th></th>\n",
       "      <th>Date</th>\n",
       "      <th>Temperature</th>\n",
       "      <th>Anomaly</th>\n",
       "    </tr>\n",
       "  </thead>\n",
       "  <tbody>\n",
       "    <tr>\n",
       "      <th>0</th>\n",
       "      <td>1895</td>\n",
       "      <td>34.2</td>\n",
       "      <td>-3.2</td>\n",
       "    </tr>\n",
       "    <tr>\n",
       "      <th>1</th>\n",
       "      <td>1896</td>\n",
       "      <td>34.7</td>\n",
       "      <td>-2.7</td>\n",
       "    </tr>\n",
       "    <tr>\n",
       "      <th>2</th>\n",
       "      <td>1897</td>\n",
       "      <td>35.5</td>\n",
       "      <td>-1.9</td>\n",
       "    </tr>\n",
       "  </tbody>\n",
       "</table>\n",
       "</div>"
      ],
      "text/plain": [
       "   Date  Temperature  Anomaly\n",
       "0  1895         34.2     -3.2\n",
       "1  1896         34.7     -2.7\n",
       "2  1897         35.5     -1.9"
      ]
     },
     "execution_count": 13,
     "metadata": {},
     "output_type": "execute_result"
    }
   ],
   "source": [
    "nyc.head(3)"
   ]
  },
  {
   "cell_type": "code",
   "execution_count": 14,
   "id": "bec106a5-a61d-459a-b16f-fb9bded5a540",
   "metadata": {},
   "outputs": [],
   "source": [
    "pd.set_option('display.precision', 2)"
   ]
  },
  {
   "cell_type": "code",
   "execution_count": 15,
   "id": "e82b0f4c-ccb8-43be-a6fb-9019592c8f92",
   "metadata": {},
   "outputs": [
    {
     "data": {
      "text/plain": [
       "count    124.00\n",
       "mean      37.60\n",
       "std        4.54\n",
       "min       26.10\n",
       "25%       34.58\n",
       "50%       37.60\n",
       "75%       40.60\n",
       "max       47.60\n",
       "Name: Temperature, dtype: float64"
      ]
     },
     "execution_count": 15,
     "metadata": {},
     "output_type": "execute_result"
    }
   ],
   "source": [
    "nyc.Temperature.describe()"
   ]
  },
  {
   "cell_type": "code",
   "execution_count": 16,
   "id": "9f02adff-5fdc-4a8f-8b7e-a532edff664d",
   "metadata": {},
   "outputs": [],
   "source": [
    "from scipy import stats"
   ]
  },
  {
   "cell_type": "code",
   "execution_count": 17,
   "id": "34f71959-fb8a-43c3-83f7-5c65ac4c0b10",
   "metadata": {},
   "outputs": [],
   "source": [
    "linear_regression = stats.linregress(x=nyc.Date,\n",
    "                                     y=nyc.Temperature)"
   ]
  },
  {
   "cell_type": "code",
   "execution_count": 18,
   "id": "9db47ca6-1187-4b60-965a-19a4ce730c83",
   "metadata": {},
   "outputs": [
    {
     "data": {
      "text/plain": [
       "0.014771361132966163"
      ]
     },
     "execution_count": 18,
     "metadata": {},
     "output_type": "execute_result"
    }
   ],
   "source": [
    "linear_regression.slope"
   ]
  },
  {
   "cell_type": "code",
   "execution_count": 19,
   "id": "b4fa4867-cc55-4867-b219-0bb355c19484",
   "metadata": {},
   "outputs": [
    {
     "data": {
      "text/plain": [
       "8.694993233674289"
      ]
     },
     "execution_count": 19,
     "metadata": {},
     "output_type": "execute_result"
    }
   ],
   "source": [
    "linear_regression.intercept"
   ]
  },
  {
   "cell_type": "markdown",
   "id": "0b6f4563-2bba-4f8f-80f2-f148ba5f085b",
   "metadata": {},
   "source": [
    "- DeeDee Walker (Submission checkpoint)"
   ]
  },
  {
   "cell_type": "code",
   "execution_count": 20,
   "id": "9fdcf614-373c-4955-84a7-8e636498bbb5",
   "metadata": {},
   "outputs": [
    {
     "data": {
      "text/plain": [
       "38.54791408339891"
      ]
     },
     "execution_count": 20,
     "metadata": {},
     "output_type": "execute_result"
    }
   ],
   "source": [
    "linear_regression.slope * 2021 + linear_regression.intercept"
   ]
  },
  {
   "cell_type": "code",
   "execution_count": 21,
   "id": "109509ee-9c53-44d0-a0de-4c1bff62f3be",
   "metadata": {},
   "outputs": [
    {
     "data": {
      "text/plain": [
       "36.022011329661694"
      ]
     },
     "execution_count": 21,
     "metadata": {},
     "output_type": "execute_result"
    }
   ],
   "source": [
    "linear_regression.slope * 1850 + linear_regression.intercept"
   ]
  },
  {
   "cell_type": "code",
   "execution_count": 22,
   "id": "3bcc35ce-d1da-4d06-8b84-4a2c1b619b7c",
   "metadata": {},
   "outputs": [],
   "source": [
    "import seaborn as sns"
   ]
  },
  {
   "cell_type": "code",
   "execution_count": 23,
   "id": "d90378d5-21ec-40cf-8e1f-baf7b174599d",
   "metadata": {},
   "outputs": [],
   "source": [
    "sns.set_style('whitegrid')"
   ]
  },
  {
   "cell_type": "code",
   "execution_count": 24,
   "id": "4f39d961-a91e-4f96-a4f8-d617a806d3f0",
   "metadata": {},
   "outputs": [
    {
     "data": {
      "application/vnd.jupyter.widget-view+json": {
       "model_id": "fdd1e6f5fccd45609c78a4ab6b465aad",
       "version_major": 2,
       "version_minor": 0
      },
      "image/png": "[encoded data removed]",
      "text/html": [
       "\n",
       "            <div style=\"display: inline-block;\">\n",
       "                <div class=\"jupyter-widgets widget-label\" style=\"text-align: center;\">\n",
       "                    Figure\n",
       "                </div>\n",
       "                <img src='data:image/png;base64,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' width=640.0/>\n",
       "            </div>\n",
       "        "
      ],
      "text/plain": [
       "Canvas(toolbar=Toolbar(toolitems=[('Home', 'Reset original view', 'home', 'home'), ('Back', 'Back to previous …"
      ]
     },
     "metadata": {},
     "output_type": "display_data"
    }
   ],
   "source": [
    "axes = sns.regplot(x=nyc.Date, y=nyc.Temperature)"
   ]
  },
  {
   "cell_type": "code",
   "execution_count": 25,
   "id": "cd729abd-e0ca-4b0d-bd66-4e85da72c76b",
   "metadata": {},
   "outputs": [
    {
     "data": {
      "text/plain": [
       "(10.0, 70.0)"
      ]
     },
     "execution_count": 25,
     "metadata": {},
     "output_type": "execute_result"
    }
   ],
   "source": [
    "axes.set_ylim(10, 70)"
   ]
  },
  {
   "cell_type": "markdown",
   "id": "74ab9e6a-54be-4d31-ad29-f953426006be",
   "metadata": {},
   "source": [
    "#### Self Check 3"
   ]
  },
  {
   "cell_type": "code",
   "execution_count": 26,
   "id": "8c6dd640-2216-4b8c-9ed0-eff3d125a093",
   "metadata": {},
   "outputs": [],
   "source": [
    "year = 2021"
   ]
  },
  {
   "cell_type": "code",
   "execution_count": 27,
   "id": "66f72d9d-60e6-42b3-88a8-34ca2c510c4c",
   "metadata": {},
   "outputs": [],
   "source": [
    "slope = linear_regression.slope"
   ]
  },
  {
   "cell_type": "code",
   "execution_count": 28,
   "id": "73e666ee-098c-4087-bb75-50ec17e3411c",
   "metadata": {},
   "outputs": [],
   "source": [
    "intercept = linear_regression.intercept"
   ]
  },
  {
   "cell_type": "code",
   "execution_count": 29,
   "id": "ade46f38-27ba-4093-ab7e-d404fe83375f",
   "metadata": {},
   "outputs": [],
   "source": [
    "temperature = slope * year + intercept"
   ]
  },
  {
   "cell_type": "code",
   "execution_count": 30,
   "id": "d9e94537-feca-4f59-a3ea-c54ea9fdefb6",
   "metadata": {},
   "outputs": [],
   "source": [
    "while temperature < 40.0:\n",
    "    year += 1\n",
    "    temperature = slope * year + intercept"
   ]
  },
  {
   "cell_type": "code",
   "execution_count": 31,
   "id": "5c4fe3db-7a4b-4ebc-b31b-2ec4e12de1a5",
   "metadata": {},
   "outputs": [
    {
     "data": {
      "text/plain": [
       "2120"
      ]
     },
     "execution_count": 31,
     "metadata": {},
     "output_type": "execute_result"
    }
   ],
   "source": [
    "year"
   ]
  },
  {
   "cell_type": "code",
   "execution_count": null,
   "id": "6ea51825-a185-482a-b50d-7afe4e415dc1",
   "metadata": {},
   "outputs": [],
   "source": []
  }
 ],
 "metadata": {
  "kernelspec": {
   "display_name": "Python 3 (ipykernel)",
   "language": "python",
   "name": "python3"
  },
  "language_info": {
   "codemirror_mode": {
    "name": "ipython",
    "version": 3
   },
   "file_extension": ".py",
   "mimetype": "text/x-python",
   "name": "python",
   "nbconvert_exporter": "python",
   "pygments_lexer": "ipython3",
   "version": "3.9.12"
  }
 },
 "nbformat": 4,
 "nbformat_minor": 5
}
