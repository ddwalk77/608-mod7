{
 "cells": [
  {
   "cell_type": "markdown",
   "id": "7ff8b277-18dd-4097-aa1f-0ba9d4db1c70",
   "metadata": {},
   "source": [
    "# Chapter 10 Practice - DeeDee Walker"
   ]
  },
  {
   "cell_type": "markdown",
   "id": "4e594154-af94-40bf-ac25-8580ce665f16",
   "metadata": {},
   "source": [
    "### 10.2.1 - DeeDee Walker"
   ]
  },
  {
   "cell_type": "markdown",
   "id": "a325eac5-da64-4a72-8396-d8ee289386de",
   "metadata": {},
   "source": [
    "- Importing Classes Account & Decimal"
   ]
  },
  {
   "cell_type": "code",
   "execution_count": 1,
   "id": "d8c2fe5c-deba-4196-94f2-b6f54939255b",
   "metadata": {},
   "outputs": [],
   "source": [
    "from account import Account"
   ]
  },
  {
   "cell_type": "code",
   "execution_count": 2,
   "id": "c4bc586c-c242-43fd-9ce1-4c519ba0baf1",
   "metadata": {},
   "outputs": [],
   "source": [
    "from decimal import Decimal"
   ]
  },
  {
   "cell_type": "markdown",
   "id": "63c351a7-77f1-47f5-bdff-ade78e6e2a5c",
   "metadata": {},
   "source": [
    "- Create an Account Object with a Constructor Expresison"
   ]
  },
  {
   "cell_type": "code",
   "execution_count": 3,
   "id": "b9d0a404-1438-4ddb-9804-7e23ed200804",
   "metadata": {},
   "outputs": [],
   "source": [
    "account1 = Account('DeeDee Walker', Decimal('50.00'))"
   ]
  },
  {
   "cell_type": "code",
   "execution_count": 4,
   "id": "b9251264-8068-43de-af54-3ccaaabc13d2",
   "metadata": {},
   "outputs": [
    {
     "data": {
      "text/plain": [
       "'DeeDee Walker'"
      ]
     },
     "execution_count": 4,
     "metadata": {},
     "output_type": "execute_result"
    }
   ],
   "source": [
    "account1.name"
   ]
  },
  {
   "cell_type": "code",
   "execution_count": 5,
   "id": "388907e4-db4b-492f-9a58-8beea8ca4c13",
   "metadata": {},
   "outputs": [
    {
     "data": {
      "text/plain": [
       "Decimal('50.00')"
      ]
     },
     "execution_count": 5,
     "metadata": {},
     "output_type": "execute_result"
    }
   ],
   "source": [
    "account1.balance"
   ]
  },
  {
   "cell_type": "code",
   "execution_count": 6,
   "id": "af96cc42-4f33-4313-a51d-e4b76a974f7f",
   "metadata": {},
   "outputs": [],
   "source": [
    "account1.deposit(Decimal('25.53'))"
   ]
  },
  {
   "cell_type": "code",
   "execution_count": 7,
   "id": "54a933bf-44d3-4506-80a8-c536c14d6aa2",
   "metadata": {},
   "outputs": [
    {
     "data": {
      "text/plain": [
       "Decimal('75.53')"
      ]
     },
     "execution_count": 7,
     "metadata": {},
     "output_type": "execute_result"
    }
   ],
   "source": [
    "account1.balance"
   ]
  },
  {
   "cell_type": "code",
   "execution_count": 8,
   "id": "a6f8663d-c1b1-4591-8c9d-3931eacb92d5",
   "metadata": {},
   "outputs": [
    {
     "ename": "ValueError",
     "evalue": "amount must be positive.",
     "output_type": "error",
     "traceback": [
      "\u001b[1;31m---------------------------------------------------------------------------\u001b[0m",
      "\u001b[1;31mValueError\u001b[0m                                Traceback (most recent call last)",
      "Input \u001b[1;32mIn [8]\u001b[0m, in \u001b[0;36m<cell line: 1>\u001b[1;34m()\u001b[0m\n\u001b[1;32m----> 1\u001b[0m \u001b[43maccount1\u001b[49m\u001b[38;5;241;43m.\u001b[39;49m\u001b[43mdeposit\u001b[49m\u001b[43m(\u001b[49m\u001b[43mDecimal\u001b[49m\u001b[43m(\u001b[49m\u001b[38;5;124;43m'\u001b[39;49m\u001b[38;5;124;43m-123.45\u001b[39;49m\u001b[38;5;124;43m'\u001b[39;49m\u001b[43m)\u001b[49m\u001b[43m)\u001b[49m\n",
      "File \u001b[1;32m~\\OneDrive\\Documents\\MSDA\\44-608\\608-mod7\\account.py:23\u001b[0m, in \u001b[0;36mAccount.deposit\u001b[1;34m(self, amount)\u001b[0m\n\u001b[0;32m     21\u001b[0m \u001b[38;5;66;03m# if amount is less than 0.00, raise an exception\u001b[39;00m\n\u001b[0;32m     22\u001b[0m \u001b[38;5;28;01mif\u001b[39;00m amount \u001b[38;5;241m<\u001b[39m Decimal(\u001b[38;5;124m'\u001b[39m\u001b[38;5;124m0.00\u001b[39m\u001b[38;5;124m'\u001b[39m):\n\u001b[1;32m---> 23\u001b[0m     \u001b[38;5;28;01mraise\u001b[39;00m \u001b[38;5;167;01mValueError\u001b[39;00m(\u001b[38;5;124m'\u001b[39m\u001b[38;5;124mamount must be positive.\u001b[39m\u001b[38;5;124m'\u001b[39m)\n\u001b[0;32m     25\u001b[0m \u001b[38;5;28mself\u001b[39m\u001b[38;5;241m.\u001b[39mbalance \u001b[38;5;241m+\u001b[39m\u001b[38;5;241m=\u001b[39m amount\n",
      "\u001b[1;31mValueError\u001b[0m: amount must be positive."
     ]
    }
   ],
   "source": [
    "account1.deposit(Decimal('-123.45')) #Value Error due to negative deposit"
   ]
  },
  {
   "cell_type": "code",
   "execution_count": 9,
   "id": "daa14361-2ab4-4617-863f-c29a0e11aa4c",
   "metadata": {},
   "outputs": [],
   "source": [
    "account1.withdraw(Decimal('20.00')) #have to import Account again after making changes in order to run this"
   ]
  },
  {
   "cell_type": "code",
   "execution_count": 10,
   "id": "90ca512d-c3c5-4edc-aec4-2b2ba11a4f56",
   "metadata": {},
   "outputs": [
    {
     "data": {
      "text/plain": [
       "Decimal('55.53')"
      ]
     },
     "execution_count": 10,
     "metadata": {},
     "output_type": "execute_result"
    }
   ],
   "source": [
    "account1.balance"
   ]
  },
  {
   "cell_type": "code",
   "execution_count": 11,
   "id": "5f6f4ba1-c086-4f1c-bc54-0417e30dec1c",
   "metadata": {},
   "outputs": [
    {
     "ename": "ValueError",
     "evalue": "amount must be <= to balance.",
     "output_type": "error",
     "traceback": [
      "\u001b[1;31m---------------------------------------------------------------------------\u001b[0m",
      "\u001b[1;31mValueError\u001b[0m                                Traceback (most recent call last)",
      "Input \u001b[1;32mIn [11]\u001b[0m, in \u001b[0;36m<cell line: 1>\u001b[1;34m()\u001b[0m\n\u001b[1;32m----> 1\u001b[0m \u001b[43maccount1\u001b[49m\u001b[38;5;241;43m.\u001b[39;49m\u001b[43mwithdraw\u001b[49m\u001b[43m(\u001b[49m\u001b[43mDecimal\u001b[49m\u001b[43m(\u001b[49m\u001b[38;5;124;43m'\u001b[39;49m\u001b[38;5;124;43m100.00\u001b[39;49m\u001b[38;5;124;43m'\u001b[39;49m\u001b[43m)\u001b[49m\u001b[43m)\u001b[49m\n",
      "File \u001b[1;32m~\\OneDrive\\Documents\\MSDA\\44-608\\608-mod7\\account.py:32\u001b[0m, in \u001b[0;36mAccount.withdraw\u001b[1;34m(self, amount)\u001b[0m\n\u001b[0;32m     30\u001b[0m \u001b[38;5;66;03m#if amount is greater than the balance, raise an exception\u001b[39;00m\n\u001b[0;32m     31\u001b[0m \u001b[38;5;28;01mif\u001b[39;00m amount \u001b[38;5;241m>\u001b[39m \u001b[38;5;28mself\u001b[39m\u001b[38;5;241m.\u001b[39mbalance:\n\u001b[1;32m---> 32\u001b[0m     \u001b[38;5;28;01mraise\u001b[39;00m \u001b[38;5;167;01mValueError\u001b[39;00m(\u001b[38;5;124m'\u001b[39m\u001b[38;5;124mamount must be <= to balance.\u001b[39m\u001b[38;5;124m'\u001b[39m)\n\u001b[0;32m     33\u001b[0m \u001b[38;5;28;01melif\u001b[39;00m amount \u001b[38;5;241m<\u001b[39m Decimal(\u001b[38;5;124m'\u001b[39m\u001b[38;5;124m0.00\u001b[39m\u001b[38;5;124m'\u001b[39m):\n\u001b[0;32m     34\u001b[0m     \u001b[38;5;28;01mraise\u001b[39;00m \u001b[38;5;167;01mValueError\u001b[39;00m(\u001b[38;5;124m'\u001b[39m\u001b[38;5;124mamount must be positive.\u001b[39m\u001b[38;5;124m'\u001b[39m)\n",
      "\u001b[1;31mValueError\u001b[0m: amount must be <= to balance."
     ]
    }
   ],
   "source": [
    "account1.withdraw(Decimal('100.00'))"
   ]
  },
  {
   "cell_type": "code",
   "execution_count": 12,
   "id": "138690e3-2789-4168-9717-0ad1e2444fb8",
   "metadata": {},
   "outputs": [
    {
     "ename": "ValueError",
     "evalue": "amount must be positive.",
     "output_type": "error",
     "traceback": [
      "\u001b[1;31m---------------------------------------------------------------------------\u001b[0m",
      "\u001b[1;31mValueError\u001b[0m                                Traceback (most recent call last)",
      "Input \u001b[1;32mIn [12]\u001b[0m, in \u001b[0;36m<cell line: 1>\u001b[1;34m()\u001b[0m\n\u001b[1;32m----> 1\u001b[0m \u001b[43maccount1\u001b[49m\u001b[38;5;241;43m.\u001b[39;49m\u001b[43mwithdraw\u001b[49m\u001b[43m(\u001b[49m\u001b[43mDecimal\u001b[49m\u001b[43m(\u001b[49m\u001b[38;5;124;43m'\u001b[39;49m\u001b[38;5;124;43m-10.00\u001b[39;49m\u001b[38;5;124;43m'\u001b[39;49m\u001b[43m)\u001b[49m\u001b[43m)\u001b[49m\n",
      "File \u001b[1;32m~\\OneDrive\\Documents\\MSDA\\44-608\\608-mod7\\account.py:34\u001b[0m, in \u001b[0;36mAccount.withdraw\u001b[1;34m(self, amount)\u001b[0m\n\u001b[0;32m     32\u001b[0m     \u001b[38;5;28;01mraise\u001b[39;00m \u001b[38;5;167;01mValueError\u001b[39;00m(\u001b[38;5;124m'\u001b[39m\u001b[38;5;124mamount must be <= to balance.\u001b[39m\u001b[38;5;124m'\u001b[39m)\n\u001b[0;32m     33\u001b[0m \u001b[38;5;28;01melif\u001b[39;00m amount \u001b[38;5;241m<\u001b[39m Decimal(\u001b[38;5;124m'\u001b[39m\u001b[38;5;124m0.00\u001b[39m\u001b[38;5;124m'\u001b[39m):\n\u001b[1;32m---> 34\u001b[0m     \u001b[38;5;28;01mraise\u001b[39;00m \u001b[38;5;167;01mValueError\u001b[39;00m(\u001b[38;5;124m'\u001b[39m\u001b[38;5;124mamount must be positive.\u001b[39m\u001b[38;5;124m'\u001b[39m)\n\u001b[0;32m     36\u001b[0m \u001b[38;5;28mself\u001b[39m\u001b[38;5;241m.\u001b[39mbalance \u001b[38;5;241m-\u001b[39m\u001b[38;5;241m=\u001b[39m amount\n",
      "\u001b[1;31mValueError\u001b[0m: amount must be positive."
     ]
    }
   ],
   "source": [
    "account1.withdraw(Decimal('-10.00'))"
   ]
  },
  {
   "cell_type": "markdown",
   "id": "5ecd51e3-1cad-43b7-9379-cf035ba02875",
   "metadata": {},
   "source": [
    "### 10.3 Controlling Access to Attributes - DeeDee Walker"
   ]
  },
  {
   "cell_type": "code",
   "execution_count": 13,
   "id": "0f25b30a-59fc-43fb-80fc-84fb6baa893d",
   "metadata": {},
   "outputs": [],
   "source": [
    "account1.balance = Decimal('-1000.00')"
   ]
  },
  {
   "cell_type": "code",
   "execution_count": 14,
   "id": "bdeafea1-a450-4c96-b8f7-e2f843a6c125",
   "metadata": {},
   "outputs": [
    {
     "data": {
      "text/plain": [
       "Decimal('-1000.00')"
      ]
     },
     "execution_count": 14,
     "metadata": {},
     "output_type": "execute_result"
    }
   ],
   "source": [
    "account1.balance"
   ]
  },
  {
   "cell_type": "markdown",
   "id": "bc962ce5-8083-4a6a-a3c7-edb289618baa",
   "metadata": {},
   "source": [
    "### 10.4 Properties for Data Access - DeeDee Walker"
   ]
  },
  {
   "cell_type": "code",
   "execution_count": 15,
   "id": "cdafbf0c-6319-4c79-873c-6eae448f0dd3",
   "metadata": {},
   "outputs": [],
   "source": [
    "from timewithproperties import Time"
   ]
  },
  {
   "cell_type": "code",
   "execution_count": 16,
   "id": "f79a79d1-0913-4e76-b61d-277acc0210ab",
   "metadata": {},
   "outputs": [],
   "source": [
    "wake_up = Time(hour=6, minute=30)"
   ]
  },
  {
   "cell_type": "code",
   "execution_count": 17,
   "id": "6daf6931-8aa8-402d-b056-072318ed2a56",
   "metadata": {},
   "outputs": [
    {
     "data": {
      "text/plain": [
       "Time(hour=6, minute=30, second=0)"
      ]
     },
     "execution_count": 17,
     "metadata": {},
     "output_type": "execute_result"
    }
   ],
   "source": [
    "wake_up"
   ]
  },
  {
   "cell_type": "code",
   "execution_count": 18,
   "id": "2d35f7e4-d466-4ba0-a8a4-741154bccd8c",
   "metadata": {},
   "outputs": [
    {
     "name": "stdout",
     "output_type": "stream",
     "text": [
      "6:30:00 AM\n"
     ]
    }
   ],
   "source": [
    "print(wake_up)"
   ]
  },
  {
   "cell_type": "code",
   "execution_count": 19,
   "id": "8f121f92-0a89-4710-af83-589434153802",
   "metadata": {},
   "outputs": [
    {
     "data": {
      "text/plain": [
       "6"
      ]
     },
     "execution_count": 19,
     "metadata": {},
     "output_type": "execute_result"
    }
   ],
   "source": [
    "wake_up.hour"
   ]
  },
  {
   "cell_type": "code",
   "execution_count": 20,
   "id": "0586966e-589d-4e68-9b37-27dc6f1cdda6",
   "metadata": {},
   "outputs": [],
   "source": [
    "wake_up.set_time(hour=7, minute=45)"
   ]
  },
  {
   "cell_type": "code",
   "execution_count": 21,
   "id": "6d04874d-d484-4508-a76c-858eece7d212",
   "metadata": {},
   "outputs": [
    {
     "data": {
      "text/plain": [
       "Time(hour=7, minute=45, second=0)"
      ]
     },
     "execution_count": 21,
     "metadata": {},
     "output_type": "execute_result"
    }
   ],
   "source": [
    "wake_up"
   ]
  },
  {
   "cell_type": "code",
   "execution_count": 22,
   "id": "c99cd424-3059-4864-b479-cec4af492b3f",
   "metadata": {},
   "outputs": [],
   "source": [
    "wake_up.hour = 6"
   ]
  },
  {
   "cell_type": "code",
   "execution_count": 23,
   "id": "f9d9ae4c-f9e8-4b62-bf6f-c81bada74c2c",
   "metadata": {},
   "outputs": [
    {
     "data": {
      "text/plain": [
       "Time(hour=6, minute=45, second=0)"
      ]
     },
     "execution_count": 23,
     "metadata": {},
     "output_type": "execute_result"
    }
   ],
   "source": [
    "wake_up"
   ]
  },
  {
   "cell_type": "code",
   "execution_count": 24,
   "id": "a399ba67-d1ab-4270-9d5b-d6bf9b95518f",
   "metadata": {},
   "outputs": [
    {
     "ename": "ValueError",
     "evalue": "Hour (100) must be 0-23",
     "output_type": "error",
     "traceback": [
      "\u001b[1;31m---------------------------------------------------------------------------\u001b[0m",
      "\u001b[1;31mValueError\u001b[0m                                Traceback (most recent call last)",
      "Input \u001b[1;32mIn [24]\u001b[0m, in \u001b[0;36m<cell line: 1>\u001b[1;34m()\u001b[0m\n\u001b[1;32m----> 1\u001b[0m \u001b[43mwake_up\u001b[49m\u001b[38;5;241;43m.\u001b[39;49m\u001b[43mhour\u001b[49m \u001b[38;5;241m=\u001b[39m \u001b[38;5;241m100\u001b[39m\n",
      "File \u001b[1;32m~\\OneDrive\\Documents\\MSDA\\44-608\\608-mod7\\timewithproperties.py:22\u001b[0m, in \u001b[0;36mTime.hour\u001b[1;34m(self, hour)\u001b[0m\n\u001b[0;32m     20\u001b[0m \u001b[38;5;124;03m\"\"\"Set the hour.\"\"\"\u001b[39;00m\n\u001b[0;32m     21\u001b[0m \u001b[38;5;28;01mif\u001b[39;00m \u001b[38;5;129;01mnot\u001b[39;00m (\u001b[38;5;241m0\u001b[39m \u001b[38;5;241m<\u001b[39m\u001b[38;5;241m=\u001b[39m hour \u001b[38;5;241m<\u001b[39m \u001b[38;5;241m24\u001b[39m):\n\u001b[1;32m---> 22\u001b[0m     \u001b[38;5;28;01mraise\u001b[39;00m \u001b[38;5;167;01mValueError\u001b[39;00m(\u001b[38;5;124mf\u001b[39m\u001b[38;5;124m'\u001b[39m\u001b[38;5;124mHour (\u001b[39m\u001b[38;5;132;01m{\u001b[39;00mhour\u001b[38;5;132;01m}\u001b[39;00m\u001b[38;5;124m) must be 0-23\u001b[39m\u001b[38;5;124m'\u001b[39m)\n\u001b[0;32m     24\u001b[0m \u001b[38;5;28mself\u001b[39m\u001b[38;5;241m.\u001b[39m_hour \u001b[38;5;241m=\u001b[39m hour\n",
      "\u001b[1;31mValueError\u001b[0m: Hour (100) must be 0-23"
     ]
    }
   ],
   "source": [
    "wake_up.hour = 100"
   ]
  },
  {
   "cell_type": "code",
   "execution_count": 25,
   "id": "38079317-2cae-4663-8477-fdad12a86716",
   "metadata": {},
   "outputs": [],
   "source": [
    "from timewithproperties import Time"
   ]
  },
  {
   "cell_type": "code",
   "execution_count": 26,
   "id": "278440ac-06d7-4bce-b140-def639027379",
   "metadata": {},
   "outputs": [],
   "source": [
    "t = Time()"
   ]
  },
  {
   "cell_type": "code",
   "execution_count": 27,
   "id": "f1ff5477-27ad-408f-91ed-f9ef2efc2993",
   "metadata": {},
   "outputs": [
    {
     "data": {
      "text/plain": [
       "Time(hour=0, minute=0, second=0)"
      ]
     },
     "execution_count": 27,
     "metadata": {},
     "output_type": "execute_result"
    }
   ],
   "source": [
    "t"
   ]
  },
  {
   "cell_type": "code",
   "execution_count": 28,
   "id": "53b0def2-7c08-4978-97a0-737d4f10ede9",
   "metadata": {},
   "outputs": [],
   "source": [
    "t.time = (12, 30, 45)"
   ]
  },
  {
   "cell_type": "code",
   "execution_count": 29,
   "id": "b2572b99-a034-4eb4-a16f-a8bd2608dc6c",
   "metadata": {},
   "outputs": [
    {
     "data": {
      "text/plain": [
       "Time(hour=12, minute=30, second=45)"
      ]
     },
     "execution_count": 29,
     "metadata": {},
     "output_type": "execute_result"
    }
   ],
   "source": [
    "t"
   ]
  },
  {
   "cell_type": "code",
   "execution_count": 30,
   "id": "396f3089-f6d4-4290-a02d-535f03b240f6",
   "metadata": {},
   "outputs": [
    {
     "data": {
      "text/plain": [
       "(12, 30, 45)"
      ]
     },
     "execution_count": 30,
     "metadata": {},
     "output_type": "execute_result"
    }
   ],
   "source": [
    "t.time"
   ]
  },
  {
   "cell_type": "code",
   "execution_count": 31,
   "id": "5d2e9e4e-09ce-4fbd-a1a6-e3a1b0ec2834",
   "metadata": {},
   "outputs": [],
   "source": [
    "wake_up = Time(hour=7, minute=45, second=30)"
   ]
  },
  {
   "cell_type": "code",
   "execution_count": 32,
   "id": "85b98005-2774-4165-afb2-984f9456a79a",
   "metadata": {},
   "outputs": [
    {
     "data": {
      "text/plain": [
       "7"
      ]
     },
     "execution_count": 32,
     "metadata": {},
     "output_type": "execute_result"
    }
   ],
   "source": [
    "wake_up._hour"
   ]
  },
  {
   "cell_type": "code",
   "execution_count": 34,
   "id": "2758eaa0-a33e-41ea-b0a0-d884a6033022",
   "metadata": {},
   "outputs": [],
   "source": [
    "wake_up._hour = 100"
   ]
  },
  {
   "cell_type": "code",
   "execution_count": 35,
   "id": "da0de5f4-f94e-4810-83bb-8c4cfd170a22",
   "metadata": {},
   "outputs": [
    {
     "data": {
      "text/plain": [
       "Time(hour=100, minute=45, second=30)"
      ]
     },
     "execution_count": 35,
     "metadata": {},
     "output_type": "execute_result"
    }
   ],
   "source": [
    "wake_up"
   ]
  },
  {
   "cell_type": "markdown",
   "id": "d600275a-0306-4f2b-b223-d52a1f9e3a3a",
   "metadata": {},
   "source": [
    "### 10.5 Simulating Private Attributes - DeeDee Walker"
   ]
  },
  {
   "cell_type": "code",
   "execution_count": 36,
   "id": "bfdae39c-80a9-4084-b4d2-0d405342b890",
   "metadata": {},
   "outputs": [],
   "source": [
    "from private import PrivateClass"
   ]
  },
  {
   "cell_type": "code",
   "execution_count": 37,
   "id": "e7660777-0c39-4faf-b780-3a35dd607cd0",
   "metadata": {},
   "outputs": [],
   "source": [
    "my_object = PrivateClass()"
   ]
  },
  {
   "cell_type": "code",
   "execution_count": 38,
   "id": "2a8d554c-b416-4831-a074-d3f19baf0636",
   "metadata": {},
   "outputs": [
    {
     "data": {
      "text/plain": [
       "'public'"
      ]
     },
     "execution_count": 38,
     "metadata": {},
     "output_type": "execute_result"
    }
   ],
   "source": [
    "my_object.public_data"
   ]
  },
  {
   "cell_type": "code",
   "execution_count": 39,
   "id": "c5a8681f-1fb0-49a1-96f2-6d04215f30cc",
   "metadata": {},
   "outputs": [
    {
     "ename": "AttributeError",
     "evalue": "'PrivateClass' object has no attribute '__private_data'",
     "output_type": "error",
     "traceback": [
      "\u001b[1;31m---------------------------------------------------------------------------\u001b[0m",
      "\u001b[1;31mAttributeError\u001b[0m                            Traceback (most recent call last)",
      "Input \u001b[1;32mIn [39]\u001b[0m, in \u001b[0;36m<cell line: 1>\u001b[1;34m()\u001b[0m\n\u001b[1;32m----> 1\u001b[0m \u001b[43mmy_object\u001b[49m\u001b[38;5;241;43m.\u001b[39;49m\u001b[43m__private_data\u001b[49m\n",
      "\u001b[1;31mAttributeError\u001b[0m: 'PrivateClass' object has no attribute '__private_data'"
     ]
    }
   ],
   "source": [
    "my_object.__private_data"
   ]
  },
  {
   "cell_type": "code",
   "execution_count": 41,
   "id": "de68f6cc-e223-4213-a76e-f565e309157d",
   "metadata": {},
   "outputs": [
    {
     "data": {
      "text/plain": [
       "'private'"
      ]
     },
     "execution_count": 41,
     "metadata": {},
     "output_type": "execute_result"
    }
   ],
   "source": [
    "my_object._PrivateClass__private_data"
   ]
  },
  {
   "cell_type": "code",
   "execution_count": 42,
   "id": "62b687a3-f69d-427f-825c-347e80f1deae",
   "metadata": {},
   "outputs": [],
   "source": [
    "my_object._PrivateClass__private_data = 'modified'"
   ]
  },
  {
   "cell_type": "code",
   "execution_count": 43,
   "id": "19803c3e-1cca-47fe-ae91-c8493b505ecb",
   "metadata": {},
   "outputs": [
    {
     "data": {
      "text/plain": [
       "'modified'"
      ]
     },
     "execution_count": 43,
     "metadata": {},
     "output_type": "execute_result"
    }
   ],
   "source": [
    "my_object._PrivateClass__private_data"
   ]
  },
  {
   "cell_type": "markdown",
   "id": "91436743-a6e3-431d-9322-87419fcfb518",
   "metadata": {},
   "source": [
    "### 10.6 - DeeDee Walker"
   ]
  },
  {
   "cell_type": "code",
   "execution_count": 18,
   "id": "b5634543-44d9-4acd-aa6c-a39d1cb4a466",
   "metadata": {},
   "outputs": [],
   "source": [
    "from deck import DeckOfCards"
   ]
  },
  {
   "cell_type": "code",
   "execution_count": 19,
   "id": "45687b26-8c83-437f-badf-c600cdd0da18",
   "metadata": {},
   "outputs": [],
   "source": [
    "deck_of_cards = DeckOfCards()"
   ]
  },
  {
   "cell_type": "code",
   "execution_count": 20,
   "id": "592f3948-5ca0-41b5-afbf-9cf52bf54206",
   "metadata": {},
   "outputs": [
    {
     "name": "stdout",
     "output_type": "stream",
     "text": [
      "Ace of Hearts      2 of Hearts        3 of Hearts        4 of Hearts        \n",
      "5 of Hearts        6 of Hearts        7 of Hearts        8 of Hearts        \n",
      "9 of Hearts        10 of Hearts       Jack of Hearts     Queen of Hearts    \n",
      "King of Hearts     Ace of Diamonds    2 of Diamonds      3 of Diamonds      \n",
      "4 of Diamonds      5 of Diamonds      6 of Diamonds      7 of Diamonds      \n",
      "8 of Diamonds      9 of Diamonds      10 of Diamonds     Jack of Diamonds   \n",
      "Queen of Diamonds  King of Diamonds   Ace of Clubs       2 of Clubs         \n",
      "3 of Clubs         4 of Clubs         5 of Clubs         6 of Clubs         \n",
      "7 of Clubs         8 of Clubs         9 of Clubs         10 of Clubs        \n",
      "Jack of Clubs      Queen of Clubs     King of Clubs      Ace of Spades      \n",
      "2 of Spades        3 of Spades        4 of Spades        5 of Spades        \n",
      "6 of Spades        7 of Spades        8 of Spades        9 of Spades        \n",
      "10 of Spades       Jack of Spades     Queen of Spades    King of Spades     \n",
      "\n"
     ]
    }
   ],
   "source": [
    "print(deck_of_cards)"
   ]
  },
  {
   "cell_type": "code",
   "execution_count": 4,
   "id": "dfc65c45-472d-4341-b76d-01b17c950a0a",
   "metadata": {},
   "outputs": [],
   "source": [
    "deck_of_cards.shuffle()"
   ]
  },
  {
   "cell_type": "code",
   "execution_count": 5,
   "id": "5868baed-f3aa-445c-bfa8-70504618257d",
   "metadata": {},
   "outputs": [
    {
     "name": "stdout",
     "output_type": "stream",
     "text": [
      "8 of Spades        3 of Clubs         3 of Diamonds      5 of Spades        \n",
      "9 of Diamonds      4 of Diamonds      10 of Hearts       2 of Hearts        \n",
      "Ace of Clubs       9 of Clubs         King of Clubs      Queen of Hearts    \n",
      "7 of Spades        6 of Clubs         7 of Clubs         King of Diamonds   \n",
      "Jack of Hearts     10 of Clubs        3 of Spades        Ace of Diamonds    \n",
      "6 of Diamonds      7 of Diamonds      3 of Hearts        6 of Spades        \n",
      "9 of Hearts        2 of Spades        10 of Spades       8 of Hearts        \n",
      "King of Spades     Ace of Spades      6 of Hearts        8 of Diamonds      \n",
      "Queen of Diamonds  5 of Clubs         2 of Diamonds      2 of Clubs         \n",
      "8 of Clubs         5 of Hearts        4 of Clubs         King of Hearts     \n",
      "Jack of Diamonds   Queen of Clubs     7 of Hearts        9 of Spades        \n",
      "4 of Hearts        Jack of Spades     Ace of Hearts      5 of Diamonds      \n",
      "Jack of Clubs      10 of Diamonds     4 of Spades        Queen of Spades    \n",
      "\n"
     ]
    }
   ],
   "source": [
    "print(deck_of_cards)"
   ]
  },
  {
   "cell_type": "code",
   "execution_count": 6,
   "id": "39558bb2-4bf1-4663-a4e3-5eec3d8962d3",
   "metadata": {},
   "outputs": [
    {
     "data": {
      "text/plain": [
       "Card(face='8', suit='Spades')"
      ]
     },
     "execution_count": 6,
     "metadata": {},
     "output_type": "execute_result"
    }
   ],
   "source": [
    "deck_of_cards.deal_card()"
   ]
  },
  {
   "cell_type": "code",
   "execution_count": 7,
   "id": "75bf4331-e104-42c3-aa66-14460c634030",
   "metadata": {},
   "outputs": [],
   "source": [
    "card = deck_of_cards.deal_card()"
   ]
  },
  {
   "cell_type": "code",
   "execution_count": 8,
   "id": "038b2cd9-a8fa-48cc-ac6a-8968406b04ea",
   "metadata": {},
   "outputs": [
    {
     "data": {
      "text/plain": [
       "'3 of Clubs'"
      ]
     },
     "execution_count": 8,
     "metadata": {},
     "output_type": "execute_result"
    }
   ],
   "source": [
    "str(card)"
   ]
  },
  {
   "cell_type": "code",
   "execution_count": 9,
   "id": "db6ff43d-8587-44b1-9153-c34f64303d6c",
   "metadata": {},
   "outputs": [
    {
     "data": {
      "text/plain": [
       "'3_of_Clubs.png'"
      ]
     },
     "execution_count": 9,
     "metadata": {},
     "output_type": "execute_result"
    }
   ],
   "source": [
    "card.image_name"
   ]
  },
  {
   "cell_type": "code",
   "execution_count": 21,
   "id": "06b9f7de-14f3-4b6c-883d-da5ea2a2ce7d",
   "metadata": {},
   "outputs": [],
   "source": [
    "%matplotlib widget"
   ]
  },
  {
   "cell_type": "code",
   "execution_count": 22,
   "id": "8a2138a0-2eaa-4699-8c09-51c0f35208f8",
   "metadata": {},
   "outputs": [],
   "source": [
    "from pathlib import Path"
   ]
  },
  {
   "cell_type": "code",
   "execution_count": 23,
   "id": "b0052951-22eb-4c24-ab00-f27af9df9e3d",
   "metadata": {},
   "outputs": [],
   "source": [
    "path = Path('.').joinpath('card_images')"
   ]
  },
  {
   "cell_type": "code",
   "execution_count": 24,
   "id": "5aaa280d-d785-4bc9-8381-ec92a0d1382a",
   "metadata": {},
   "outputs": [],
   "source": [
    "import matplotlib.pyplot as plt"
   ]
  },
  {
   "cell_type": "code",
   "execution_count": 25,
   "id": "0428e6c6-ec48-4f90-94d9-e79521fb6807",
   "metadata": {},
   "outputs": [],
   "source": [
    "import matplotlib.image as mpimg"
   ]
  },
  {
   "cell_type": "code",
   "execution_count": 26,
   "id": "68f00649-4bac-4b1e-8547-4a02757d6dd6",
   "metadata": {},
   "outputs": [
    {
     "data": {
      "application/vnd.jupyter.widget-view+json": {
       "model_id": "50f61bc5c05e4931b8d2e0ca3d47758a",
       "version_major": 2,
       "version_minor": 0
      },
      "image/png": "[encoded data removed]",
      "text/html": [
       "\n",
       "            <div style=\"display: inline-block;\">\n",
       "                <div class=\"jupyter-widgets widget-label\" style=\"text-align: center;\">\n",
       "                    Figure\n",
       "                </div>\n",
       "                <img src='data:image/png;base64,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' width=640.0/>\n",
       "            </div>\n",
       "        "
      ],
      "text/plain": [
       "Canvas(toolbar=Toolbar(toolitems=[('Home', 'Reset original view', 'home', 'home'), ('Back', 'Back to previous …"
      ]
     },
     "metadata": {},
     "output_type": "display_data"
    }
   ],
   "source": [
    "figure, axes_list = plt.subplots(nrows=4, ncols=13)"
   ]
  },
  {
   "cell_type": "code",
   "execution_count": 27,
   "id": "1752809f-f585-4922-9e1d-9cc2274154c5",
   "metadata": {},
   "outputs": [],
   "source": [
    "for axes in axes_list.ravel():\n",
    "    axes.get_xaxis().set_visible(False)\n",
    "    axes.get_yaxis().set_visible(False)\n",
    "    image_name = deck_of_cards.deal_card().image_name\n",
    "    img = mpimg.imread(str(path.joinpath(image_name).resolve()))\n",
    "    axes.imshow(img)"
   ]
  },
  {
   "cell_type": "code",
   "execution_count": 28,
   "id": "ba737067-4342-4991-9138-5a678bd9a990",
   "metadata": {},
   "outputs": [],
   "source": [
    "figure.tight_layout()"
   ]
  },
  {
   "cell_type": "code",
   "execution_count": 33,
   "id": "4fa53ba8-8bd3-4cf6-9a89-feddcefa36e9",
   "metadata": {},
   "outputs": [],
   "source": [
    "deck_of_cards.shuffle()"
   ]
  },
  {
   "cell_type": "code",
   "execution_count": 34,
   "id": "f923be47-25be-4bd1-9a33-5d2b25abe186",
   "metadata": {},
   "outputs": [],
   "source": [
    "for axes in axes_list.ravel():\n",
    "    axes.get_xaxis().set_visible(False)\n",
    "    axes.get_yaxis().set_visible(False)\n",
    "    image_name = deck_of_cards.deal_card().image_name\n",
    "    img = mpimg.imread(str(path.joinpath(image_name).resolve()))\n",
    "    axes.imshow(img)"
   ]
  },
  {
   "cell_type": "code",
   "execution_count": 35,
   "id": "06a2e680-d2d1-436a-8f17-06b4385f4119",
   "metadata": {},
   "outputs": [],
   "source": [
    "deck_of_cards.shuffle()"
   ]
  },
  {
   "cell_type": "code",
   "execution_count": 36,
   "id": "59cd949f-05de-4e0c-8662-20f3307de71e",
   "metadata": {},
   "outputs": [
    {
     "data": {
      "application/vnd.jupyter.widget-view+json": {
       "model_id": "d6e92b3fa844447ebc39d233753bab37",
       "version_major": 2,
       "version_minor": 0
      },
      "image/png": "[encoded data removed]",
      "text/html": [
       "\n",
       "            <div style=\"display: inline-block;\">\n",
       "                <div class=\"jupyter-widgets widget-label\" style=\"text-align: center;\">\n",
       "                    Figure\n",
       "                </div>\n",
       "                <img src='data:image/png;base64,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' width=640.0/>\n",
       "            </div>\n",
       "        "
      ],
      "text/plain": [
       "Canvas(toolbar=Toolbar(toolitems=[('Home', 'Reset original view', 'home', 'home'), ('Back', 'Back to previous …"
      ]
     },
     "metadata": {},
     "output_type": "display_data"
    }
   ],
   "source": [
    "figure, axes_list = plt.subplots(nrows=2, ncols=5)"
   ]
  },
  {
   "cell_type": "code",
   "execution_count": 37,
   "id": "45bf6c68-021e-4783-afe7-af648a1d76db",
   "metadata": {},
   "outputs": [],
   "source": [
    "for axes in axes_list.ravel():\n",
    "    axes.get_xaxis().set_visible(False)\n",
    "    axes.get_yaxis().set_visible(False)\n",
    "    image_name = deck_of_cards.deal_card().image_name\n",
    "    img = mpimg.imread(str(path.joinpath(image_name).resolve()))\n",
    "    axes.imshow(img)"
   ]
  },
  {
   "cell_type": "markdown",
   "id": "d7f83a0c-b4a4-4aaf-b603-3bc125b380c2",
   "metadata": {},
   "source": [
    "### 10.8 - DeeDee Walker"
   ]
  },
  {
   "cell_type": "code",
   "execution_count": 38,
   "id": "997599c7-bad0-42dc-806f-d25caddba3ec",
   "metadata": {},
   "outputs": [],
   "source": [
    "from commissionemployee import CommissionEmployee"
   ]
  },
  {
   "cell_type": "code",
   "execution_count": 39,
   "id": "514a8b2e-4197-4412-b513-2aef66f09456",
   "metadata": {},
   "outputs": [],
   "source": [
    "from decimal import Decimal"
   ]
  },
  {
   "cell_type": "code",
   "execution_count": 42,
   "id": "dedca555-5adf-4e4f-9aac-c76cf366c259",
   "metadata": {},
   "outputs": [],
   "source": [
    "c = CommissionEmployee('DeeDee', 'Walker', '333-33-3333', \n",
    "    Decimal('10000.00'), Decimal('0.06'))"
   ]
  },
  {
   "cell_type": "code",
   "execution_count": 43,
   "id": "34819f6f-493e-4ee9-a521-fcbb231459db",
   "metadata": {},
   "outputs": [
    {
     "data": {
      "text/plain": [
       "CommissionEmployee: DeeDee Walker\n",
       "social security number: 333-33-3333\n",
       "gross sales: 10000.00\n",
       "commission rate: 0.06"
      ]
     },
     "execution_count": 43,
     "metadata": {},
     "output_type": "execute_result"
    }
   ],
   "source": [
    "c"
   ]
  },
  {
   "cell_type": "code",
   "execution_count": 44,
   "id": "ce433fd8-deb5-40f2-8618-0066ac02715a",
   "metadata": {},
   "outputs": [
    {
     "name": "stdout",
     "output_type": "stream",
     "text": [
      "600.00\n"
     ]
    }
   ],
   "source": [
    "print(f'{c.earnings():,.2f}')"
   ]
  },
  {
   "cell_type": "code",
   "execution_count": 45,
   "id": "e4eecb2a-1c89-4066-ab18-e4fd0291075a",
   "metadata": {},
   "outputs": [],
   "source": [
    "c.gross_sales = Decimal('20000.00')"
   ]
  },
  {
   "cell_type": "code",
   "execution_count": 46,
   "id": "17154bbc-7b70-4734-9f6b-981fba9071c2",
   "metadata": {},
   "outputs": [],
   "source": [
    "c.commission_rate = Decimal('0.1')"
   ]
  },
  {
   "cell_type": "code",
   "execution_count": 47,
   "id": "09394037-5702-4eba-a84b-fe73240eaf90",
   "metadata": {},
   "outputs": [
    {
     "name": "stdout",
     "output_type": "stream",
     "text": [
      "2,000.00\n"
     ]
    }
   ],
   "source": [
    "print(f'{c.earnings():,.2f}')"
   ]
  },
  {
   "cell_type": "code",
   "execution_count": 48,
   "id": "d6f686bc-2c3d-49ff-a427-e2d089468904",
   "metadata": {},
   "outputs": [],
   "source": [
    "from salariedcommissionemployee import SalariedCommissionEmployee"
   ]
  },
  {
   "cell_type": "code",
   "execution_count": 49,
   "id": "cbf33954-254e-430f-b0ae-137cd29f9e09",
   "metadata": {},
   "outputs": [],
   "source": [
    "s = SalariedCommissionEmployee('DeeDee', 'Walker', '444-44-4444',\n",
    "         Decimal('5000.00'), Decimal('0.04'), Decimal('300.00'))"
   ]
  },
  {
   "cell_type": "code",
   "execution_count": 50,
   "id": "cee836a4-c31b-4b09-bf76-121f0abbc1ab",
   "metadata": {},
   "outputs": [
    {
     "name": "stdout",
     "output_type": "stream",
     "text": [
      "DeeDee Walker 444-44-4444 5000.00 0.04 300.00\n"
     ]
    }
   ],
   "source": [
    "print(s.first_name, s.last_name, s.ssn, s.gross_sales, \n",
    "       s.commission_rate, s.base_salary)"
   ]
  },
  {
   "cell_type": "code",
   "execution_count": 51,
   "id": "5225870d-971e-49a5-a4f9-95e555a33c63",
   "metadata": {},
   "outputs": [
    {
     "name": "stdout",
     "output_type": "stream",
     "text": [
      "500.00\n"
     ]
    }
   ],
   "source": [
    "print(f'{s.earnings():,.2f}')"
   ]
  },
  {
   "cell_type": "code",
   "execution_count": 52,
   "id": "7c2876f4-80a4-42f9-8753-c35ff3a75293",
   "metadata": {},
   "outputs": [],
   "source": [
    "s.gross_sales = Decimal('10000.00')"
   ]
  },
  {
   "cell_type": "code",
   "execution_count": 53,
   "id": "15696acb-f293-4ffe-bbaf-4cb7e38c6f60",
   "metadata": {},
   "outputs": [],
   "source": [
    "s.commission_rate = Decimal('0.05')"
   ]
  },
  {
   "cell_type": "code",
   "execution_count": 54,
   "id": "6ee239b7-1326-4dd0-8761-db203d7d001a",
   "metadata": {},
   "outputs": [],
   "source": [
    "s.base_salary = Decimal('1000.00')"
   ]
  },
  {
   "cell_type": "code",
   "execution_count": 55,
   "id": "66341964-0eeb-4c0a-a7c4-99d195f738a2",
   "metadata": {},
   "outputs": [
    {
     "name": "stdout",
     "output_type": "stream",
     "text": [
      "SalariedCommissionEmployee: DeeDee Walker\n",
      "social security number: 444-44-4444\n",
      "gross sales: 10000.00\n",
      "commission rate: 0.05\n",
      "base salary: 1000.00\n"
     ]
    }
   ],
   "source": [
    "print(s)"
   ]
  },
  {
   "cell_type": "code",
   "execution_count": 56,
   "id": "84b51dff-5819-4c96-8cd3-fa70c78ec734",
   "metadata": {},
   "outputs": [
    {
     "name": "stdout",
     "output_type": "stream",
     "text": [
      "1,500.00\n"
     ]
    }
   ],
   "source": [
    "print(f'{s.earnings():,.2f}')"
   ]
  },
  {
   "cell_type": "code",
   "execution_count": 57,
   "id": "5f97ef02-8b3e-4085-b4c5-b8afb67b13cd",
   "metadata": {},
   "outputs": [
    {
     "data": {
      "text/plain": [
       "True"
      ]
     },
     "execution_count": 57,
     "metadata": {},
     "output_type": "execute_result"
    }
   ],
   "source": [
    "issubclass(SalariedCommissionEmployee, CommissionEmployee)"
   ]
  },
  {
   "cell_type": "code",
   "execution_count": 58,
   "id": "31f9517e-cc80-44ff-bd48-ade25b8934e9",
   "metadata": {},
   "outputs": [
    {
     "data": {
      "text/plain": [
       "True"
      ]
     },
     "execution_count": 58,
     "metadata": {},
     "output_type": "execute_result"
    }
   ],
   "source": [
    "isinstance(s, CommissionEmployee)"
   ]
  },
  {
   "cell_type": "code",
   "execution_count": 59,
   "id": "bfdb7ad6-b80f-43cc-af06-9234e129dfe2",
   "metadata": {},
   "outputs": [
    {
     "data": {
      "text/plain": [
       "True"
      ]
     },
     "execution_count": 59,
     "metadata": {},
     "output_type": "execute_result"
    }
   ],
   "source": [
    "isinstance(s, SalariedCommissionEmployee)"
   ]
  },
  {
   "cell_type": "code",
   "execution_count": 60,
   "id": "8eed3141-d36c-4596-ae69-d30011c95ff7",
   "metadata": {},
   "outputs": [],
   "source": [
    "employees = [c, s]"
   ]
  },
  {
   "cell_type": "code",
   "execution_count": 61,
   "id": "ba8bd34e-2a3d-4ac2-b2cd-7fa83af84179",
   "metadata": {},
   "outputs": [
    {
     "name": "stdout",
     "output_type": "stream",
     "text": [
      "CommissionEmployee: DeeDee Walker\n",
      "social security number: 333-33-3333\n",
      "gross sales: 20000.00\n",
      "commission rate: 0.10\n",
      "2,000.00\n",
      "\n",
      "SalariedCommissionEmployee: DeeDee Walker\n",
      "social security number: 444-44-4444\n",
      "gross sales: 10000.00\n",
      "commission rate: 0.05\n",
      "base salary: 1000.00\n",
      "1,500.00\n",
      "\n"
     ]
    }
   ],
   "source": [
    "for employee in employees:\n",
    "     print(employee)\n",
    "     print(f'{employee.earnings():,.2f}\\n')"
   ]
  },
  {
   "cell_type": "markdown",
   "id": "daa9bc8e-311b-4fea-9345-c598be94d125",
   "metadata": {},
   "source": [
    "### 10.9 - DeeDee Walker"
   ]
  },
  {
   "cell_type": "code",
   "execution_count": 62,
   "id": "cd7df6d3-4d35-4da3-ba89-5045c4e8d083",
   "metadata": {},
   "outputs": [],
   "source": [
    "class WellPaidDuck:\n",
    "    def __repr__(self):\n",
    "        return 'I am a well-paid duck'\n",
    "    def earnings(self):\n",
    "        return Decimal('1_000_000.00')"
   ]
  },
  {
   "cell_type": "code",
   "execution_count": 63,
   "id": "25cb19b7-3ab6-4536-85aa-f29a76dd75e4",
   "metadata": {},
   "outputs": [],
   "source": [
    "from decimal import Decimal"
   ]
  },
  {
   "cell_type": "code",
   "execution_count": 64,
   "id": "ae85f3bf-e87b-42f6-9e5a-1808e020de77",
   "metadata": {},
   "outputs": [],
   "source": [
    "from commissionemployee import CommissionEmployee"
   ]
  },
  {
   "cell_type": "code",
   "execution_count": 65,
   "id": "05916323-1abb-42b2-ab56-0d2b9655e496",
   "metadata": {},
   "outputs": [],
   "source": [
    "from salariedcommissionemployee import SalariedCommissionEmployee"
   ]
  },
  {
   "cell_type": "code",
   "execution_count": 66,
   "id": "028e15ce-cfcc-4bf1-be70-1a332cb35b6f",
   "metadata": {},
   "outputs": [],
   "source": [
    "c = CommissionEmployee('DeeDee', 'Walker', '333-33-3333',\n",
    "                       Decimal('10000.00'), Decimal('0.06'))"
   ]
  },
  {
   "cell_type": "code",
   "execution_count": 67,
   "id": "f024d268-1632-4e15-9c58-fa3a78ab3a2a",
   "metadata": {},
   "outputs": [],
   "source": [
    "s = SalariedCommissionEmployee('Rick', 'Walker', '444-44-4444',\n",
    "    Decimal('5000.00'), Decimal('0.04'), Decimal('300.00'))"
   ]
  },
  {
   "cell_type": "code",
   "execution_count": 68,
   "id": "db059db2-08b4-4823-b014-5a67e5b52381",
   "metadata": {},
   "outputs": [],
   "source": [
    "d = WellPaidDuck()"
   ]
  },
  {
   "cell_type": "code",
   "execution_count": 69,
   "id": "d406ebfa-0a3d-451e-9dd2-ab6b150cf220",
   "metadata": {},
   "outputs": [],
   "source": [
    "employees = [c, s, d]"
   ]
  },
  {
   "cell_type": "code",
   "execution_count": 70,
   "id": "0058ca9c-439d-4903-bb3f-ed11766270ff",
   "metadata": {},
   "outputs": [
    {
     "name": "stdout",
     "output_type": "stream",
     "text": [
      "CommissionEmployee: DeeDee Walker\n",
      "social security number: 333-33-3333\n",
      "gross sales: 10000.00\n",
      "commission rate: 0.06\n",
      "600.00\n",
      "\n",
      "SalariedCommissionEmployee: Rick Walker\n",
      "social security number: 444-44-4444\n",
      "gross sales: 5000.00\n",
      "commission rate: 0.04\n",
      "base salary: 300.00\n",
      "500.00\n",
      "\n",
      "I am a well-paid duck\n",
      "1,000,000.00\n",
      "\n"
     ]
    }
   ],
   "source": [
    "for employee in employees:\n",
    "    print(employee)\n",
    "    print(f'{employee.earnings():,.2f}\\n')"
   ]
  },
  {
   "cell_type": "markdown",
   "id": "dc5cd0e4-658e-4bc2-aed1-cf0778f1c6be",
   "metadata": {},
   "source": [
    "### 10.10 - DeeDee Walker"
   ]
  },
  {
   "cell_type": "code",
   "execution_count": 71,
   "id": "1429db80-aa96-4fa5-a71f-f3dc4edc47ee",
   "metadata": {},
   "outputs": [],
   "source": [
    "from complexnumber import Complex"
   ]
  },
  {
   "cell_type": "code",
   "execution_count": 72,
   "id": "2349188f-e6a2-4063-b7c9-c6895cbf8988",
   "metadata": {},
   "outputs": [],
   "source": [
    "x = Complex(real=2, imaginary=4)"
   ]
  },
  {
   "cell_type": "code",
   "execution_count": 73,
   "id": "7d92f0c1-be95-4d1b-a7ab-9b481503cce0",
   "metadata": {},
   "outputs": [
    {
     "data": {
      "text/plain": [
       "(2 + 4i)"
      ]
     },
     "execution_count": 73,
     "metadata": {},
     "output_type": "execute_result"
    }
   ],
   "source": [
    "x"
   ]
  },
  {
   "cell_type": "code",
   "execution_count": 74,
   "id": "7ac0af80-ecda-4e85-8767-96936bb7d51a",
   "metadata": {},
   "outputs": [],
   "source": [
    "y = Complex(real=5, imaginary=-1)"
   ]
  },
  {
   "cell_type": "code",
   "execution_count": 75,
   "id": "c0301617-7c5b-4cb3-bdef-341f81cbfa6c",
   "metadata": {},
   "outputs": [
    {
     "data": {
      "text/plain": [
       "(5 - 1i)"
      ]
     },
     "execution_count": 75,
     "metadata": {},
     "output_type": "execute_result"
    }
   ],
   "source": [
    "y"
   ]
  },
  {
   "cell_type": "code",
   "execution_count": 76,
   "id": "f619b6bf-0105-4522-84fa-db7ca38cd5ad",
   "metadata": {},
   "outputs": [
    {
     "data": {
      "text/plain": [
       "(7 + 3i)"
      ]
     },
     "execution_count": 76,
     "metadata": {},
     "output_type": "execute_result"
    }
   ],
   "source": [
    "x + y"
   ]
  },
  {
   "cell_type": "code",
   "execution_count": 77,
   "id": "90842603-5928-43ae-9703-6d0434fe5d8d",
   "metadata": {},
   "outputs": [
    {
     "data": {
      "text/plain": [
       "(2 + 4i)"
      ]
     },
     "execution_count": 77,
     "metadata": {},
     "output_type": "execute_result"
    }
   ],
   "source": [
    "x"
   ]
  },
  {
   "cell_type": "code",
   "execution_count": 78,
   "id": "2b3cd9c6-7151-4f62-8fdd-6a427601ee6d",
   "metadata": {},
   "outputs": [
    {
     "data": {
      "text/plain": [
       "(5 - 1i)"
      ]
     },
     "execution_count": 78,
     "metadata": {},
     "output_type": "execute_result"
    }
   ],
   "source": [
    "y"
   ]
  },
  {
   "cell_type": "code",
   "execution_count": 79,
   "id": "e51b6446-09b8-48d3-b027-971638771445",
   "metadata": {},
   "outputs": [],
   "source": [
    "x += y"
   ]
  },
  {
   "cell_type": "code",
   "execution_count": 80,
   "id": "656aad0a-0400-4f5c-ad3e-31d24a533494",
   "metadata": {},
   "outputs": [
    {
     "data": {
      "text/plain": [
       "(7 + 3i)"
      ]
     },
     "execution_count": 80,
     "metadata": {},
     "output_type": "execute_result"
    }
   ],
   "source": [
    "x"
   ]
  },
  {
   "cell_type": "code",
   "execution_count": 81,
   "id": "ba4295ca-9005-49c9-afaa-ab25a74af924",
   "metadata": {},
   "outputs": [
    {
     "data": {
      "text/plain": [
       "(5 - 1i)"
      ]
     },
     "execution_count": 81,
     "metadata": {},
     "output_type": "execute_result"
    }
   ],
   "source": [
    "y"
   ]
  },
  {
   "cell_type": "code",
   "execution_count": 82,
   "id": "aab30ce0-58cb-475e-b1c8-ca7ffa4174c6",
   "metadata": {},
   "outputs": [],
   "source": [
    "from complexnumber2 import Complex"
   ]
  },
  {
   "cell_type": "code",
   "execution_count": 83,
   "id": "086fa028-e858-4e1c-b7e6-ea14246874ec",
   "metadata": {},
   "outputs": [],
   "source": [
    "x = Complex(real=2, imaginary=4)"
   ]
  },
  {
   "cell_type": "code",
   "execution_count": 84,
   "id": "436cb147-1f51-4d22-9826-c0542fb8db9a",
   "metadata": {},
   "outputs": [],
   "source": [
    "y = Complex(real=5, imaginary=-1)"
   ]
  },
  {
   "cell_type": "code",
   "execution_count": 85,
   "id": "7c299f26-a3a8-4f63-9c87-d0f9bd3a59a3",
   "metadata": {},
   "outputs": [
    {
     "data": {
      "text/plain": [
       "(-3 + 5i)"
      ]
     },
     "execution_count": 85,
     "metadata": {},
     "output_type": "execute_result"
    }
   ],
   "source": [
    "x - y"
   ]
  },
  {
   "cell_type": "code",
   "execution_count": 86,
   "id": "7cfc32a0-788b-4d8a-8fcf-122b1c7c96e5",
   "metadata": {},
   "outputs": [],
   "source": [
    "x -= y"
   ]
  },
  {
   "cell_type": "code",
   "execution_count": 87,
   "id": "4fa635f6-e1b7-4423-84b1-2eb810f3f391",
   "metadata": {},
   "outputs": [
    {
     "data": {
      "text/plain": [
       "(-3 + 5i)"
      ]
     },
     "execution_count": 87,
     "metadata": {},
     "output_type": "execute_result"
    }
   ],
   "source": [
    "x"
   ]
  },
  {
   "cell_type": "code",
   "execution_count": 88,
   "id": "ecfee371-ac08-4646-b0b0-730fc57cbb95",
   "metadata": {},
   "outputs": [
    {
     "data": {
      "text/plain": [
       "(5 - 1i)"
      ]
     },
     "execution_count": 88,
     "metadata": {},
     "output_type": "execute_result"
    }
   ],
   "source": [
    "y"
   ]
  },
  {
   "cell_type": "markdown",
   "id": "1f9c5dad-8f2e-4e1b-94ff-9d005edb2cf4",
   "metadata": {},
   "source": [
    "### 10.12 - DeeDee Walker"
   ]
  },
  {
   "cell_type": "code",
   "execution_count": 89,
   "id": "cfaaf40b-0d65-4715-923c-82d4cb8d18a5",
   "metadata": {},
   "outputs": [],
   "source": [
    "from collections import namedtuple"
   ]
  },
  {
   "cell_type": "code",
   "execution_count": 90,
   "id": "5989c703-c629-4237-af80-694cdb66f94a",
   "metadata": {},
   "outputs": [],
   "source": [
    "Card = namedtuple('Card', ['face', 'suit'])"
   ]
  },
  {
   "cell_type": "code",
   "execution_count": 91,
   "id": "724b13b2-02d4-4d33-b60e-814fae7fb545",
   "metadata": {},
   "outputs": [],
   "source": [
    "card = Card(face='Ace', suit='Spades')"
   ]
  },
  {
   "cell_type": "code",
   "execution_count": 92,
   "id": "9c7eed17-9ba4-43b8-a8d7-e74e3d855243",
   "metadata": {},
   "outputs": [
    {
     "data": {
      "text/plain": [
       "'Ace'"
      ]
     },
     "execution_count": 92,
     "metadata": {},
     "output_type": "execute_result"
    }
   ],
   "source": [
    "card.face"
   ]
  },
  {
   "cell_type": "code",
   "execution_count": 93,
   "id": "e61dab5d-1990-4318-8f1a-5eb83902ccc8",
   "metadata": {},
   "outputs": [
    {
     "data": {
      "text/plain": [
       "'Spades'"
      ]
     },
     "execution_count": 93,
     "metadata": {},
     "output_type": "execute_result"
    }
   ],
   "source": [
    "card.suit"
   ]
  },
  {
   "cell_type": "code",
   "execution_count": 94,
   "id": "5aca566b-1597-4b36-88e5-bad1d788929f",
   "metadata": {},
   "outputs": [
    {
     "data": {
      "text/plain": [
       "Card(face='Ace', suit='Spades')"
      ]
     },
     "execution_count": 94,
     "metadata": {},
     "output_type": "execute_result"
    }
   ],
   "source": [
    "card"
   ]
  },
  {
   "cell_type": "code",
   "execution_count": 95,
   "id": "e4a792c6-1bd5-4d03-b017-d744142e8c2a",
   "metadata": {},
   "outputs": [],
   "source": [
    "values = ['Queen', 'Hearts']"
   ]
  },
  {
   "cell_type": "code",
   "execution_count": 96,
   "id": "3f8cfba1-0668-4e87-a004-c231c221797f",
   "metadata": {},
   "outputs": [],
   "source": [
    "card = Card._make(values)"
   ]
  },
  {
   "cell_type": "code",
   "execution_count": 97,
   "id": "838953dc-c55f-4866-a2ff-2bc0a2dcada4",
   "metadata": {},
   "outputs": [
    {
     "data": {
      "text/plain": [
       "Card(face='Queen', suit='Hearts')"
      ]
     },
     "execution_count": 97,
     "metadata": {},
     "output_type": "execute_result"
    }
   ],
   "source": [
    "card"
   ]
  },
  {
   "cell_type": "code",
   "execution_count": 98,
   "id": "2aac9cff-91a1-43a5-b178-18858c0075fd",
   "metadata": {},
   "outputs": [
    {
     "data": {
      "text/plain": [
       "{'face': 'Queen', 'suit': 'Hearts'}"
      ]
     },
     "execution_count": 98,
     "metadata": {},
     "output_type": "execute_result"
    }
   ],
   "source": [
    "card._asdict()"
   ]
  },
  {
   "cell_type": "code",
   "execution_count": 99,
   "id": "578d1c39-d0de-409a-8d41-94cf412c90c3",
   "metadata": {},
   "outputs": [],
   "source": [
    "from collections import namedtuple"
   ]
  },
  {
   "cell_type": "code",
   "execution_count": 100,
   "id": "2c3acf61-d311-43aa-8025-124d1fead592",
   "metadata": {},
   "outputs": [],
   "source": [
    "Time = namedtuple('Time', ['hour', 'minute', 'second'])"
   ]
  },
  {
   "cell_type": "code",
   "execution_count": 101,
   "id": "15d21625-f5b9-4d0a-811e-c3eafdf09952",
   "metadata": {},
   "outputs": [],
   "source": [
    "t = Time(13, 30, 45)"
   ]
  },
  {
   "cell_type": "code",
   "execution_count": 102,
   "id": "1eecadaa-d246-43c2-bedf-0bc4ee388bf9",
   "metadata": {},
   "outputs": [
    {
     "name": "stdout",
     "output_type": "stream",
     "text": [
      "13 30 45\n"
     ]
    }
   ],
   "source": [
    "print(t.hour, t.minute, t.second)"
   ]
  },
  {
   "cell_type": "code",
   "execution_count": 103,
   "id": "e41c54a9-fc98-4968-9a94-df6c13830048",
   "metadata": {},
   "outputs": [
    {
     "data": {
      "text/plain": [
       "Time(hour=13, minute=30, second=45)"
      ]
     },
     "execution_count": 103,
     "metadata": {},
     "output_type": "execute_result"
    }
   ],
   "source": [
    "t"
   ]
  },
  {
   "cell_type": "markdown",
   "id": "7a29ee29-f42e-4fb6-8db2-a6fcaf33b1a0",
   "metadata": {},
   "source": [
    "### 10.13 DeeDee Walker"
   ]
  },
  {
   "cell_type": "code",
   "execution_count": 1,
   "id": "727e922c-4870-4e30-a853-d3c2af450f75",
   "metadata": {},
   "outputs": [],
   "source": [
    "from dataclasses import dataclass"
   ]
  },
  {
   "cell_type": "code",
   "execution_count": 2,
   "id": "f5c9c986-de73-4ccb-9319-73594188c20b",
   "metadata": {},
   "outputs": [
    {
     "ename": "NameError",
     "evalue": "name 'x' is not defined",
     "output_type": "error",
     "traceback": [
      "\u001b[1;31m---------------------------------------------------------------------------\u001b[0m",
      "\u001b[1;31mNameError\u001b[0m                                 Traceback (most recent call last)",
      "Input \u001b[1;32mIn [2]\u001b[0m, in \u001b[0;36m<cell line: 1>\u001b[1;34m()\u001b[0m\n\u001b[0;32m      1\u001b[0m \u001b[38;5;129m@dataclass\u001b[39m\n\u001b[1;32m----> 2\u001b[0m \u001b[38;5;28;01mclass\u001b[39;00m \u001b[38;5;21;01mDemo\u001b[39;00m:\n\u001b[0;32m      3\u001b[0m     x\n",
      "Input \u001b[1;32mIn [2]\u001b[0m, in \u001b[0;36mDemo\u001b[1;34m()\u001b[0m\n\u001b[0;32m      1\u001b[0m \u001b[38;5;129m@dataclass\u001b[39m\n\u001b[0;32m      2\u001b[0m \u001b[38;5;28;01mclass\u001b[39;00m \u001b[38;5;21;01mDemo\u001b[39;00m:\n\u001b[1;32m----> 3\u001b[0m     \u001b[43mx\u001b[49m\n",
      "\u001b[1;31mNameError\u001b[0m: name 'x' is not defined"
     ]
    }
   ],
   "source": [
    "@dataclass\n",
    "class Demo:\n",
    "    x  # attempting to create a data attribute x"
   ]
  },
  {
   "cell_type": "code",
   "execution_count": 3,
   "id": "a9239844-e538-430e-bf2b-aa1ebad82717",
   "metadata": {},
   "outputs": [],
   "source": [
    "from carddataclass import Card"
   ]
  },
  {
   "cell_type": "code",
   "execution_count": 4,
   "id": "0422d22c-96fc-40aa-a872-b791fc28bc42",
   "metadata": {},
   "outputs": [],
   "source": [
    "c1 = Card(Card.FACES[0], Card.SUITS[3])"
   ]
  },
  {
   "cell_type": "code",
   "execution_count": 5,
   "id": "afe82e9e-2192-4c4c-bfbd-594d9c62e4a0",
   "metadata": {},
   "outputs": [
    {
     "data": {
      "text/plain": [
       "Card(face='Ace', suit='Spades')"
      ]
     },
     "execution_count": 5,
     "metadata": {},
     "output_type": "execute_result"
    }
   ],
   "source": [
    "c1"
   ]
  },
  {
   "cell_type": "code",
   "execution_count": 6,
   "id": "16a38833-6a36-4d1c-9dd4-07c08203a045",
   "metadata": {},
   "outputs": [
    {
     "name": "stdout",
     "output_type": "stream",
     "text": [
      "Ace of Spades\n"
     ]
    }
   ],
   "source": [
    "print(c1)"
   ]
  },
  {
   "cell_type": "code",
   "execution_count": 7,
   "id": "a31f3c95-4b4d-4e1f-adea-0145ab37808e",
   "metadata": {},
   "outputs": [
    {
     "data": {
      "text/plain": [
       "'Ace'"
      ]
     },
     "execution_count": 7,
     "metadata": {},
     "output_type": "execute_result"
    }
   ],
   "source": [
    "c1.face"
   ]
  },
  {
   "cell_type": "code",
   "execution_count": 8,
   "id": "0cbe9903-b130-4f99-ac91-37d075654499",
   "metadata": {},
   "outputs": [
    {
     "data": {
      "text/plain": [
       "'Spades'"
      ]
     },
     "execution_count": 8,
     "metadata": {},
     "output_type": "execute_result"
    }
   ],
   "source": [
    "c1.suit"
   ]
  },
  {
   "cell_type": "code",
   "execution_count": 9,
   "id": "c5249610-3de9-40d5-80a5-eedceb74d608",
   "metadata": {},
   "outputs": [
    {
     "data": {
      "text/plain": [
       "'Ace_of_Spades.png'"
      ]
     },
     "execution_count": 9,
     "metadata": {},
     "output_type": "execute_result"
    }
   ],
   "source": [
    "c1.image_name"
   ]
  },
  {
   "cell_type": "code",
   "execution_count": 10,
   "id": "4b84607a-afaa-4693-9369-f64ab7210c29",
   "metadata": {},
   "outputs": [],
   "source": [
    "c2 = Card(Card.FACES[0], Card.SUITS[3])"
   ]
  },
  {
   "cell_type": "code",
   "execution_count": 11,
   "id": "fd3e12bd-b407-4b8b-8056-4384a3c8a812",
   "metadata": {},
   "outputs": [
    {
     "data": {
      "text/plain": [
       "Card(face='Ace', suit='Spades')"
      ]
     },
     "execution_count": 11,
     "metadata": {},
     "output_type": "execute_result"
    }
   ],
   "source": [
    "c2"
   ]
  },
  {
   "cell_type": "code",
   "execution_count": 12,
   "id": "2ad492b7-00f7-474e-a5ae-5503ce477bb5",
   "metadata": {},
   "outputs": [],
   "source": [
    "c3 = Card(Card.FACES[0], Card.SUITS[0])"
   ]
  },
  {
   "cell_type": "code",
   "execution_count": 13,
   "id": "da17e0d4-f38d-450b-85e2-f3835e853862",
   "metadata": {},
   "outputs": [
    {
     "data": {
      "text/plain": [
       "Card(face='Ace', suit='Hearts')"
      ]
     },
     "execution_count": 13,
     "metadata": {},
     "output_type": "execute_result"
    }
   ],
   "source": [
    "c3"
   ]
  },
  {
   "cell_type": "code",
   "execution_count": 14,
   "id": "00b280f7-d4c4-48ad-9afa-8273332ca73c",
   "metadata": {},
   "outputs": [
    {
     "data": {
      "text/plain": [
       "True"
      ]
     },
     "execution_count": 14,
     "metadata": {},
     "output_type": "execute_result"
    }
   ],
   "source": [
    "c1 == c2"
   ]
  },
  {
   "cell_type": "code",
   "execution_count": 15,
   "id": "1adfcceb-feb1-472b-b8c5-d487cfd48529",
   "metadata": {},
   "outputs": [
    {
     "data": {
      "text/plain": [
       "False"
      ]
     },
     "execution_count": 15,
     "metadata": {},
     "output_type": "execute_result"
    }
   ],
   "source": [
    "c1 == c3"
   ]
  },
  {
   "cell_type": "code",
   "execution_count": 16,
   "id": "2769b78f-f265-4629-8086-b47e325610c9",
   "metadata": {},
   "outputs": [
    {
     "data": {
      "text/plain": [
       "True"
      ]
     },
     "execution_count": 16,
     "metadata": {},
     "output_type": "execute_result"
    }
   ],
   "source": [
    "c1 != c3"
   ]
  },
  {
   "cell_type": "code",
   "execution_count": 18,
   "id": "7c82d393-4150-4443-bfd9-6fd3357351c6",
   "metadata": {},
   "outputs": [],
   "source": [
    "from deck2 import DeckOfCards  # uses Card data class"
   ]
  },
  {
   "cell_type": "code",
   "execution_count": 19,
   "id": "05146c6f-187f-4a29-a544-e27d54f6db81",
   "metadata": {},
   "outputs": [],
   "source": [
    "deck_of_cards = DeckOfCards()"
   ]
  },
  {
   "cell_type": "code",
   "execution_count": 20,
   "id": "79e03704-65ff-4c66-984e-69779702e7f2",
   "metadata": {},
   "outputs": [
    {
     "name": "stdout",
     "output_type": "stream",
     "text": [
      "Ace of Hearts      2 of Hearts        3 of Hearts        4 of Hearts        \n",
      "5 of Hearts        6 of Hearts        7 of Hearts        8 of Hearts        \n",
      "9 of Hearts        10 of Hearts       Jack of Hearts     Queen of Hearts    \n",
      "King of Hearts     Ace of Diamonds    2 of Diamonds      3 of Diamonds      \n",
      "4 of Diamonds      5 of Diamonds      6 of Diamonds      7 of Diamonds      \n",
      "8 of Diamonds      9 of Diamonds      10 of Diamonds     Jack of Diamonds   \n",
      "Queen of Diamonds  King of Diamonds   Ace of Clubs       2 of Clubs         \n",
      "3 of Clubs         4 of Clubs         5 of Clubs         6 of Clubs         \n",
      "7 of Clubs         8 of Clubs         9 of Clubs         10 of Clubs        \n",
      "Jack of Clubs      Queen of Clubs     King of Clubs      Ace of Spades      \n",
      "2 of Spades        3 of Spades        4 of Spades        5 of Spades        \n",
      "6 of Spades        7 of Spades        8 of Spades        9 of Spades        \n",
      "10 of Spades       Jack of Spades     Queen of Spades    King of Spades     \n",
      "\n"
     ]
    }
   ],
   "source": [
    "print(deck_of_cards)"
   ]
  },
  {
   "cell_type": "code",
   "execution_count": 21,
   "id": "3bf20a73-dbf6-44cb-898a-2c11f103c1fc",
   "metadata": {},
   "outputs": [],
   "source": [
    "from carddataclass import Card"
   ]
  },
  {
   "cell_type": "code",
   "execution_count": 22,
   "id": "4f25225b-cb2e-4306-8a23-45999179bb9c",
   "metadata": {},
   "outputs": [],
   "source": [
    "c = Card('Ace', 'Spades')"
   ]
  },
  {
   "cell_type": "code",
   "execution_count": 23,
   "id": "00a293d6-892c-4771-b1e5-2a3270d0bf9d",
   "metadata": {},
   "outputs": [
    {
     "data": {
      "text/plain": [
       "Card(face='Ace', suit='Spades')"
      ]
     },
     "execution_count": 23,
     "metadata": {},
     "output_type": "execute_result"
    }
   ],
   "source": [
    "c"
   ]
  },
  {
   "cell_type": "code",
   "execution_count": 24,
   "id": "adbcd560-1c3b-489f-84fa-bf504beb633a",
   "metadata": {},
   "outputs": [
    {
     "data": {
      "text/plain": [
       "str"
      ]
     },
     "execution_count": 24,
     "metadata": {},
     "output_type": "execute_result"
    }
   ],
   "source": [
    "type(c.face)"
   ]
  },
  {
   "cell_type": "code",
   "execution_count": 25,
   "id": "c6146672-61f5-420b-8ffe-c32b48c0e494",
   "metadata": {},
   "outputs": [],
   "source": [
    "c.face = 100"
   ]
  },
  {
   "cell_type": "code",
   "execution_count": 26,
   "id": "acd257ea-f1dd-49d4-9367-a5f0299c7c8b",
   "metadata": {},
   "outputs": [
    {
     "data": {
      "text/plain": [
       "Card(face=100, suit='Spades')"
      ]
     },
     "execution_count": 26,
     "metadata": {},
     "output_type": "execute_result"
    }
   ],
   "source": [
    "c"
   ]
  },
  {
   "cell_type": "code",
   "execution_count": 27,
   "id": "092a1478-59bb-4cba-9b7f-f99baf552826",
   "metadata": {},
   "outputs": [
    {
     "data": {
      "text/plain": [
       "int"
      ]
     },
     "execution_count": 27,
     "metadata": {},
     "output_type": "execute_result"
    }
   ],
   "source": [
    "type(c.face)"
   ]
  },
  {
   "cell_type": "markdown",
   "id": "26efa830-1d4b-4590-864e-d1d0b5be2db5",
   "metadata": {},
   "source": [
    "### 10.15 DeeDee Walker"
   ]
  },
  {
   "cell_type": "code",
   "execution_count": 12,
   "id": "079dbe21-e409-4e8d-888e-67edf4dcf0f6",
   "metadata": {},
   "outputs": [],
   "source": [
    "z = 'global z'"
   ]
  },
  {
   "cell_type": "code",
   "execution_count": 13,
   "id": "da5e01a6-211e-49d4-967c-fce986664747",
   "metadata": {},
   "outputs": [],
   "source": [
    "def print_variables():\n",
    "    y = 'local y in print_variables'\n",
    "    print(y)\n",
    "    print(z)"
   ]
  },
  {
   "cell_type": "code",
   "execution_count": 15,
   "id": "d5f8f4a2-a0a2-411e-8be4-a8bddd2aaf67",
   "metadata": {},
   "outputs": [
    {
     "name": "stdout",
     "output_type": "stream",
     "text": [
      "local y in print_variables\n",
      "global z\n"
     ]
    }
   ],
   "source": [
    "print_variables()"
   ]
  },
  {
   "cell_type": "code",
   "execution_count": 16,
   "id": "fc57c2b0-f247-4f40-a8b1-963194a99f4a",
   "metadata": {},
   "outputs": [
    {
     "ename": "NameError",
     "evalue": "name 'y' is not defined",
     "output_type": "error",
     "traceback": [
      "\u001b[1;31m---------------------------------------------------------------------------\u001b[0m",
      "\u001b[1;31mNameError\u001b[0m                                 Traceback (most recent call last)",
      "Input \u001b[1;32mIn [16]\u001b[0m, in \u001b[0;36m<cell line: 1>\u001b[1;34m()\u001b[0m\n\u001b[1;32m----> 1\u001b[0m \u001b[43my\u001b[49m\n",
      "\u001b[1;31mNameError\u001b[0m: name 'y' is not defined"
     ]
    }
   ],
   "source": [
    "y"
   ]
  },
  {
   "cell_type": "code",
   "execution_count": 17,
   "id": "1ab46849-6dd8-45bc-aa6d-3f0e7773ea7d",
   "metadata": {},
   "outputs": [
    {
     "data": {
      "text/plain": [
       "'global z'"
      ]
     },
     "execution_count": 17,
     "metadata": {},
     "output_type": "execute_result"
    }
   ],
   "source": [
    "z"
   ]
  }
 ],
 "metadata": {
  "kernelspec": {
   "display_name": "Python 3 (ipykernel)",
   "language": "python",
   "name": "python3"
  },
  "language_info": {
   "codemirror_mode": {
    "name": "ipython",
    "version": 3
   },
   "file_extension": ".py",
   "mimetype": "text/x-python",
   "name": "python",
   "nbconvert_exporter": "python",
   "pygments_lexer": "ipython3",
   "version": "3.9.12"
  }
 },
 "nbformat": 4,
 "nbformat_minor": 5
}
